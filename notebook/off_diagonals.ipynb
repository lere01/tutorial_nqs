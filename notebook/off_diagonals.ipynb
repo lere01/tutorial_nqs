{
 "cells": [
  {
   "cell_type": "markdown",
   "metadata": {},
   "source": [
    "# Computing Observables"
   ]
  },
  {
   "cell_type": "code",
   "execution_count": 1,
   "metadata": {},
   "outputs": [],
   "source": [
    "from set_fs import *\n",
    "from observables import Autoload"
   ]
  },
  {
   "cell_type": "markdown",
   "metadata": {},
   "source": [
    "In this exercise, you will be sampling from an already trained model and computing observables. A class `Autoload` has been created for you; it comes from the `observables` module. When instantiated, this object loads saved parameters from the `saved_params`. \n",
    "\n",
    "- It provides a `sample` method that can be used to sample from the network. By default, it would return 1000 samples but you can specify any batch size that you want.\n",
    "- It also provides a method `logpsi` for computing the log of your amplitude\n",
    "\n",
    "Note that the sample that is retured is a Jax array implementation. If you are not familiar with Jax, you can convert the output to numpy format by calling `numpy.asarray()` and passing the Jax array as input"
   ]
  },
  {
   "cell_type": "code",
   "execution_count": 2,
   "metadata": {},
   "outputs": [
    {
     "name": "stdout",
     "output_type": "stream",
     "text": [
      "(1000, 16), \n",
      "\n",
      " [[0 0 1 ... 0 0 0]\n",
      " [0 0 0 ... 0 0 0]\n",
      " [0 1 0 ... 0 0 1]\n",
      " ...\n",
      " [0 0 0 ... 0 1 0]\n",
      " [1 1 0 ... 1 0 1]\n",
      " [0 1 0 ... 0 0 0]]\n"
     ]
    }
   ],
   "source": [
    "# Sampling from the trained network using Autoload\n",
    "\n",
    "nn_state = Autoload()\n",
    "samples = nn_state.sample()\n",
    "print(f\"{samples.shape}, \\n\\n {samples}\")"
   ]
  },
  {
   "cell_type": "markdown",
   "metadata": {},
   "source": [
    "You can then decide to compute whatever observable that you are interested in. An example would be the average magnetization in the `z-direction` as shown below"
   ]
  },
  {
   "cell_type": "code",
   "execution_count": 3,
   "metadata": {},
   "outputs": [],
   "source": [
    "from jax import numpy as jnp"
   ]
  },
  {
   "cell_type": "code",
   "execution_count": 4,
   "metadata": {},
   "outputs": [
    {
     "name": "stdout",
     "output_type": "stream",
     "text": [
      "[[ 1  1 -1 ...  1 -1  1]\n",
      " [-1 -1 -1 ... -1 -1  1]\n",
      " [ 1 -1 -1 ...  1 -1 -1]\n",
      " ...\n",
      " [-1 -1 -1 ...  1 -1 -1]\n",
      " [ 1 -1  1 ... -1 -1  1]\n",
      " [-1 -1 -1 ... -1 -1  1]]\n"
     ]
    }
   ],
   "source": [
    "# Start by coverting from (0, 1) to (-1, 1)\n",
    "my_samples = nn_state.sample(500)\n",
    "my_conv_samples =  2 * jnp.array(my_samples) - 1\n",
    "print(my_conv_samples)"
   ]
  },
  {
   "cell_type": "code",
   "execution_count": 5,
   "metadata": {},
   "outputs": [
    {
     "data": {
      "text/plain": [
       "0.5097500085830688"
      ]
     },
     "execution_count": 5,
     "metadata": {},
     "output_type": "execute_result"
    }
   ],
   "source": [
    "# Now, I can compute the average magnetization\n",
    "jnp.mean(jnp.abs(jnp.mean(my_conv_samples, axis = 1))).item()"
   ]
  },
  {
   "cell_type": "markdown",
   "metadata": {},
   "source": [
    "However, I can create a class that inherits from `Observable` provided in the `observables` module. I will need to\n",
    "\n",
    "- Compulsorily define a `compute` instance method in which I will define my implementation\n",
    "- Optionally define my class name and symbol\n",
    "\n",
    "Let us use the just completed magnetization as example. I can decide to create a class called `ZMagnetization`"
   ]
  },
  {
   "cell_type": "code",
   "execution_count": 6,
   "metadata": {},
   "outputs": [],
   "source": [
    "from observables import Observable\n",
    "\n",
    "class ZMagnetization(Observable):\n",
    "    def __init__(self):\n",
    "        self.name = \"SigmaZ\"\n",
    "        self.symbol = \"Z\"\n",
    "\n",
    "    def compute(self, model, sample_size):\n",
    "        samps = model.sample(sample_size)\n",
    "        conv_samples = 2 * jnp.array(samps) - 1\n",
    "\n",
    "        ave_mag = jnp.mean(jnp.abs(jnp.mean(conv_samples, axis = 1)))\n",
    "\n",
    "        return ave_mag.item()\n",
    "        "
   ]
  },
  {
   "cell_type": "markdown",
   "metadata": {},
   "source": [
    "Now, I can instantiate my class and ask it to compute the magnetization with the trained network using any sample size I fancy."
   ]
  },
  {
   "cell_type": "code",
   "execution_count": 7,
   "metadata": {},
   "outputs": [
    {
     "data": {
      "text/plain": [
       "0.5022500157356262"
      ]
     },
     "execution_count": 7,
     "metadata": {},
     "output_type": "execute_result"
    }
   ],
   "source": [
    "magnet_z = ZMagnetization()\n",
    "magnet_z.compute(model = nn_state, sample_size = 2000)"
   ]
  },
  {
   "cell_type": "markdown",
   "metadata": {},
   "source": [
    "## YOUR TASKS - Compute Off-Diagonal Observables\n",
    "\n",
    "1. Create a class that inherits `Observable` and can compute the expectation value of the in-plane magnetization - $\\left < \\sigma^x \\right >$\n",
    "2. Create a class that inherits `Observable` and can compute the second Renyi entropy $S_2$ as a function of the size of a sub-region $A$. It should be able to compute for detuning parameter \n",
    "    - Far away from criticality, and \n",
    "    - Close to criticality."
   ]
  }
 ],
 "metadata": {
  "kernelspec": {
   "display_name": "summer_school",
   "language": "python",
   "name": "python3"
  },
  "language_info": {
   "codemirror_mode": {
    "name": "ipython",
    "version": 3
   },
   "file_extension": ".py",
   "mimetype": "text/x-python",
   "name": "python",
   "nbconvert_exporter": "python",
   "pygments_lexer": "ipython3",
   "version": "3.12.3"
  }
 },
 "nbformat": 4,
 "nbformat_minor": 2
}
