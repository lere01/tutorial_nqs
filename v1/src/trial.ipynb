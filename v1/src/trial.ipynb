{
 "cells": [
  {
   "cell_type": "code",
   "execution_count": 1,
   "metadata": {},
   "outputs": [],
   "source": [
    "from helpers import OptimizedVMC\n",
    "import matplotlib.pyplot as plt\n",
    "from models import RNNModel"
   ]
  },
  {
   "cell_type": "code",
   "execution_count": 2,
   "metadata": {},
   "outputs": [
    {
     "name": "stdout",
     "output_type": "stream",
     "text": [
      "step 0, loss: 0.3364909291267395\n",
      "step 100, loss: -0.30190277099609375\n",
      "step 200, loss: -0.35686591267585754\n",
      "step 300, loss: -0.41943779587745667\n",
      "step 400, loss: -0.44458088278770447\n",
      "step 500, loss: -0.36862844228744507\n",
      "step 600, loss: -0.3936356008052826\n",
      "step 700, loss: -0.37233054637908936\n",
      "step 800, loss: -0.4330783486366272\n",
      "step 900, loss: -0.4155353605747223\n",
      "step 1000, loss: -0.38940441608428955\n",
      "step 1100, loss: -0.45179176330566406\n",
      "step 1200, loss: -0.4382941424846649\n",
      "step 1300, loss: -0.44183191657066345\n",
      "step 1400, loss: -0.39589837193489075\n"
     ]
    }
   ],
   "source": [
    "z = OptimizedVMC(modelClass = RNNModel)\n",
    "z_densities = [e.mean()/16 for e in z]\n"
   ]
  },
  {
   "cell_type": "code",
   "execution_count": null,
   "metadata": {},
   "outputs": [],
   "source": [
    "plt.plot(z_densities)"
   ]
  }
 ],
 "metadata": {
  "kernelspec": {
   "display_name": "venv",
   "language": "python",
   "name": "python3"
  },
  "language_info": {
   "codemirror_mode": {
    "name": "ipython",
    "version": 3
   },
   "file_extension": ".py",
   "mimetype": "text/x-python",
   "name": "python",
   "nbconvert_exporter": "python",
   "pygments_lexer": "ipython3",
   "version": "3.12.3"
  }
 },
 "nbformat": 4,
 "nbformat_minor": 2
}
