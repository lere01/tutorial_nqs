{
 "cells": [
  {
   "cell_type": "markdown",
   "metadata": {},
   "source": [
    "# Summer School\n",
    "\n",
    "Inspiration for this tutorial was drawn from \n",
    "\n",
    "- [Sprague and Czischek, 2024](https://www.nature.com/articles/s42005-024-01584-y)\n",
    "- [Zhang and Ventra, 2023](https://physics.paperswithcode.com/paper/transformer-quantum-state-a-multi-purpose)\n",
    "- [Hibat-Allah et. al., 2020](https://journals.aps.org/prresearch/pdf/10.1103/PhysRevResearch.2.023358)\n",
    "- [Deep Learning Cookbook](https://uvadlc-notebooks.readthedocs.io/en/latest/tutorial_notebooks/JAX/tutorial6/Transformers_and_MHAttention.html)\n",
    "\n",
    "You can consult the links for further knowledge.\n",
    "\n",
    "## Using Neural Networks and Variational Monte Carlo for Ground State Search\n",
    "\n",
    "Let us consider the physics of the problem.\n",
    "\n",
    "- We are looking at a 2D lattice of Rydberg atoms\n",
    "- We will be using the Ising Model\n",
    "- We are assuming all-to-all interaction between all lattice sites\n",
    "- The Hamiltonian is as follows\n",
    "\n",
    "$$\n",
    "\\begin{equation}\n",
    "\\tilde{H} = - \\frac{\\Omega}{2} \\sum_{i = 1}^N \\left( \\hat{\\sigma}_i^x \\right) - \\delta \\sum_{i = 1}^N \\left ( \\hat{n}_i \\right )\n",
    "\\end{equation} + \\sum_{i,j} \\left ( V_{ij} \\hat{n}_i \\hat{n}_j \\right )\n",
    "$$\n",
    "\n",
    "\n",
    "where $V_{ij} = \\frac{7}{| \\textbf{r}_i - \\textbf{r}_j |^6}$."
   ]
  },
  {
   "cell_type": "markdown",
   "metadata": {},
   "source": [
    "*TO Do*\n",
    "\n",
    "- change N to Nx for proper identification\n",
    "- set up the structure of the local energy function and write some to dos for the students to evaluate observables"
   ]
  },
  {
   "cell_type": "code",
   "execution_count": 1,
   "metadata": {},
   "outputs": [],
   "source": [
    "import os\n",
    "import sys\n",
    "import ipywidgets as widgets\n",
    "from IPython.display import display, HTML"
   ]
  },
  {
   "cell_type": "markdown",
   "metadata": {},
   "source": [
    "## Setup absolute imports"
   ]
  },
  {
   "cell_type": "code",
   "execution_count": 2,
   "metadata": {},
   "outputs": [],
   "source": [
    "# Ensure the 'src' directory is in the Python path\n",
    "project_root = os.path.abspath(os.path.join(os.path.dirname('__file__'), '..'))\n",
    "src_path = os.path.join(project_root, 'src')\n",
    "\n",
    "if src_path not in sys.path:\n",
    "    sys.path.append(src_path)"
   ]
  },
  {
   "cell_type": "markdown",
   "metadata": {},
   "source": [
    "## Define  Network Prameters"
   ]
  },
  {
   "cell_type": "code",
   "execution_count": 3,
   "metadata": {},
   "outputs": [],
   "source": [
    "from display_helpers import display_configuration_ui, display_vmc_configuration_ui\n",
    "from definitions import RNNConfig, TransformerConfig, ModelType, VMCConfig\n",
    "from models import get_model"
   ]
  },
  {
   "cell_type": "code",
   "execution_count": 4,
   "metadata": {},
   "outputs": [
    {
     "data": {
      "text/html": [
       "<h2>Select Model Type and Configuration</h2>"
      ],
      "text/plain": [
       "<IPython.core.display.HTML object>"
      ]
     },
     "metadata": {},
     "output_type": "display_data"
    },
    {
     "data": {
      "application/vnd.jupyter.widget-view+json": {
       "model_id": "a1054bfdfe054b55a1b21942cd12487b",
       "version_major": 2,
       "version_minor": 0
      },
      "text/plain": [
       "Dropdown(description='Model Type:', layout=Layout(width='50%'), options=(('RNN', 1), ('TRANSFORMER', 2)), styl…"
      ]
     },
     "metadata": {},
     "output_type": "display_data"
    },
    {
     "data": {
      "application/vnd.jupyter.widget-view+json": {
       "model_id": "8f1428d08ed54c89a2fcf46706991251",
       "version_major": 2,
       "version_minor": 0
      },
      "text/plain": [
       "VBox(children=(IntText(value=2, description='Output Dim:', style=DescriptionStyle(description_width='initial')…"
      ]
     },
     "metadata": {},
     "output_type": "display_data"
    },
    {
     "data": {
      "application/vnd.jupyter.widget-view+json": {
       "model_id": "91cbe305276441a6bde38cccd4303c03",
       "version_major": 2,
       "version_minor": 0
      },
      "text/plain": [
       "VBox(children=(IntText(value=5, description='Num Layers:', style=DescriptionStyle(description_width='initial')…"
      ]
     },
     "metadata": {},
     "output_type": "display_data"
    }
   ],
   "source": [
    "model_type_dropdown, rnn_widgets, transformer_widgets = display_configuration_ui()"
   ]
  },
  {
   "cell_type": "code",
   "execution_count": 5,
   "metadata": {},
   "outputs": [
    {
     "data": {
      "text/html": [
       "<h2>VMC Configuration</h2>"
      ],
      "text/plain": [
       "<IPython.core.display.HTML object>"
      ]
     },
     "metadata": {},
     "output_type": "display_data"
    },
    {
     "data": {
      "application/vnd.jupyter.widget-view+json": {
       "model_id": "0077713fa15f4b10973fedd6c55318d2",
       "version_major": 2,
       "version_minor": 0
      },
      "text/plain": [
       "VBox(children=(IntText(value=1000, description='Nsamples:', style=DescriptionStyle(description_width='initial'…"
      ]
     },
     "metadata": {},
     "output_type": "display_data"
    }
   ],
   "source": [
    "vmc_widgets = display_vmc_configuration_ui()"
   ]
  },
  {
   "cell_type": "code",
   "execution_count": 6,
   "metadata": {},
   "outputs": [],
   "source": [
    "# Function to get the selected configuration\n",
    "def get_selected_configuration():\n",
    "    selected_model_type = model_type_dropdown.value\n",
    "    if selected_model_type == ModelType.RNN.value:\n",
    "        config = RNNConfig(\n",
    "            output_dim=rnn_widgets['output_dim'].value,\n",
    "            num_hidden_units=rnn_widgets['num_hidden_units'].value\n",
    "        )\n",
    "    elif selected_model_type == ModelType.TRANSFORMER.value:\n",
    "        config = TransformerConfig(\n",
    "            num_layers=transformer_widgets['num_layers'].value,\n",
    "            input_dim=transformer_widgets['input_dim'].value,\n",
    "            num_heads=transformer_widgets['num_heads'].value,\n",
    "            dim_feedforward=transformer_widgets['dim_feedforward'].value,\n",
    "            dropout_prob=transformer_widgets['dropout_prob'].value\n",
    "        )\n",
    "    return config\n",
    "\n",
    "\n",
    "# Function to get the selected VMC configuration\n",
    "def get_selected_vmc_configuration():\n",
    "\treturn VMCConfig(\n",
    "        nsamples=vmc_widgets['nsamples'].value,\n",
    "        n=vmc_widgets['n'].value,\n",
    "        learning_rate=vmc_widgets['learning_rate'].value,\n",
    "        num_epochs=vmc_widgets['num_epochs'].value,\n",
    "\t\toutput_dim=vmc_widgets['output_dim'].value,\n",
    "        sequence_length=vmc_widgets['sequence_length'].value,\n",
    "        num_hidden_units=vmc_widgets['num_hidden_units'].value,\n",
    "\t)"
   ]
  },
  {
   "cell_type": "code",
   "execution_count": 7,
   "metadata": {},
   "outputs": [
    {
     "data": {
      "text/plain": [
       "<ModelType.RNN: 1>"
      ]
     },
     "execution_count": 7,
     "metadata": {},
     "output_type": "execute_result"
    }
   ],
   "source": [
    "from enum import Enum\n",
    "\n",
    "class ModelType(Enum):\n",
    "    RNN = 1\n",
    "    TRANSFORMER = 2\n",
    "    \n",
    "ModelType[\"RNN\"]"
   ]
  },
  {
   "cell_type": "code",
   "execution_count": 8,
   "metadata": {},
   "outputs": [
    {
     "name": "stdout",
     "output_type": "stream",
     "text": [
      "Selected Configuration: RNNConfig(output_dim=2, num_hidden_units=64)\n"
     ]
    }
   ],
   "source": [
    "selected_config = get_selected_configuration()\n",
    "print(f'Selected Configuration: {selected_config}')"
   ]
  },
  {
   "cell_type": "code",
   "execution_count": 9,
   "metadata": {},
   "outputs": [
    {
     "name": "stdout",
     "output_type": "stream",
     "text": [
      "Selected VMC Configuration: VMCConfig(nsamples=1000, n=4, learning_rate=0.005, num_epochs=1000, output_dim=2, sequence_length=16, num_hidden_units=64)\n"
     ]
    }
   ],
   "source": [
    "vmc_config = get_selected_vmc_configuration()\n",
    "print(f'Selected VMC Configuration: {vmc_config}')"
   ]
  },
  {
   "cell_type": "markdown",
   "metadata": {},
   "source": [
    "## Get Network Model"
   ]
  },
  {
   "cell_type": "code",
   "execution_count": 10,
   "metadata": {},
   "outputs": [
    {
     "data": {
      "text/plain": [
       "<ModelType.RNN: 1>"
      ]
     },
     "execution_count": 10,
     "metadata": {},
     "output_type": "execute_result"
    }
   ],
   "source": [
    "# get modeltype whose value is 1\n",
    "model_type = ModelType(1)\n",
    "model_type"
   ]
  },
  {
   "cell_type": "code",
   "execution_count": 11,
   "metadata": {},
   "outputs": [
    {
     "name": "stdout",
     "output_type": "stream",
     "text": [
      "model=RNNModel(\n",
      "    # attributes\n",
      "    output_dim = 2\n",
      "    num_hidden_units = 64\n",
      ")\n"
     ]
    }
   ],
   "source": [
    "model = get_model(ModelType(model_type_dropdown.value))(*selected_config)\n",
    "# model = ModelType(model_type_dropdown.value)\n",
    "print(f\"{model=}\")"
   ]
  },
  {
   "cell_type": "markdown",
   "metadata": {},
   "source": [
    "## Variational Monte Carlo + Neural Quantum State\n",
    "\n",
    "\n",
    "We will be combining Variational Monte Carlo method with our Neural Quantum State to search for the ground state of our system. Most of the code has been written under the hood but you have to provide the last piece. In this section, you have the task of creating the energy function that  computes the `locaal_energy` of a batch of a batch of  configurations. \n",
    "\n",
    "- Create a class that inherites from `VMC`;\n",
    "- Create an instance method called `local_energy`;\n",
    "- Its signature is take in the following parameters in order:\n",
    "\t- samples: this is the batch of configurations for which we need to compute  local energies\n",
    "\t- params: these are the network weights \n",
    "\t- model: this is the network model\n",
    "\t- log_psi: log of psi"
   ]
  },
  {
   "cell_type": "code",
   "execution_count": 12,
   "metadata": {},
   "outputs": [],
   "source": [
    "from vmc import VMC\n",
    "from jax import jit, lax, random\n",
    "from jax import numpy as jnp\n",
    "from functools import partial\n",
    "from typing import List, Tuple, Union"
   ]
  },
  {
   "cell_type": "code",
   "execution_count": 13,
   "metadata": {},
   "outputs": [],
   "source": [
    "class MyVMC(VMC):\n",
    "\tdef __init__(self,**kwargs):\n",
    "\t\tsuper().__init__(**kwargs)\t\n",
    "            \n",
    "\tdef local_energy(self):\n",
    "\t\t...\n",
    "\n",
    "my_vmc = MyVMC(**vmc_config._asdict())"
   ]
  },
  {
   "cell_type": "code",
   "execution_count": 14,
   "metadata": {},
   "outputs": [],
   "source": [
    "class ImplVMC(VMC):\n",
    "\tdef __init__(self,**kwargs):\n",
    "\t\tsuper().__init__(**kwargs)\n",
    "\n",
    "\t\n",
    "\tdef local_energy(self, samples, params, model, log_psi) -> List[float]:\n",
    "\t\toutput = jnp.zeros((samples.shape[0]), dtype=jnp.float32)\n",
    "\n",
    "\t\tdef step_fn_chemical(i, state):\n",
    "\t\t\ts, output = state\n",
    "\t\t\toutput += - self.delta * s[:, i]\n",
    "\t\t\treturn s, output\n",
    "\n",
    "\t\tdef step_fn_intr(i, state):\n",
    "\t\t\tsamples, pairs, multipliers, output = state\n",
    "\t\t\toutput += multipliers[i] * samples[:, pairs[i, 0]] * samples[:, pairs[i, 1]]\n",
    "\t\t\treturn samples, pairs, multipliers, output\n",
    "\n",
    "\n",
    "\t\tdef step_fn_transverse(i, state):\n",
    "\t\t\ts, output = state\n",
    "\t\t\tflipped_state = s.at[:, i].set(1 - s[:, i])\n",
    "\t\t\tflipped_logpsi = self.logpsi(flipped_state, params, model)\n",
    "\t\t\toutput += - self.Omega * jnp.exp(flipped_logpsi - log_psi)\n",
    "\t\t\treturn s, output\n",
    "\n",
    "\n",
    "    \t# Interaction Term\n",
    "\t\t_, _, _, interaction_term = lax.fori_loop(0, 120, step_fn_intr, (samples, self.pairs, self.multipliers, output))\n",
    "        # Off Diagonal Term\n",
    "\t\t_, transverse_field = lax.fori_loop(0, 16, step_fn_transverse, (samples, output))\n",
    "        # _, transverse_field = lax.fori_loop(0, 16, step_fn_transverse, (samples, output))\n",
    "        # Occupancy Term\n",
    "\t\t_, chemical_potential = lax.fori_loop(0, 16, step_fn_chemical, (samples, output))\n",
    "\n",
    "        # Total energy\n",
    "\t\tloc_e = transverse_field + chemical_potential + interaction_term\n",
    "\t\t\n",
    "\t\treturn loc_e\n",
    "\n",
    "\n",
    "impl_vmc = ImplVMC(**vmc_config._asdict())"
   ]
  },
  {
   "cell_type": "markdown",
   "metadata": {},
   "source": [
    "## Run the Network"
   ]
  },
  {
   "cell_type": "code",
   "execution_count": 15,
   "metadata": {},
   "outputs": [],
   "source": [
    "batch_size = 500\n",
    "output_dim = 2\n",
    "sequence_length = 16\n",
    "\n",
    "rng_key = random.PRNGKey(0)\n",
    "dummy_input = jnp.zeros((batch_size, sequence_length, output_dim))\n",
    "params = model.init(rng_key, dummy_input)"
   ]
  },
  {
   "cell_type": "code",
   "execution_count": 16,
   "metadata": {},
   "outputs": [
    {
     "name": "stdout",
     "output_type": "stream",
     "text": [
      "step 0, loss: 0.3364906311035156\n",
      "step 100, loss: -0.3311401605606079\n",
      "step 200, loss: -0.37072551250457764\n",
      "step 300, loss: -0.4044957160949707\n",
      "step 400, loss: -0.4376782476902008\n",
      "step 500, loss: -0.378686785697937\n",
      "step 600, loss: -0.39267921447753906\n",
      "step 700, loss: -0.37748193740844727\n",
      "step 800, loss: -0.43053796887397766\n",
      "step 900, loss: -0.4173118770122528\n"
     ]
    }
   ],
   "source": [
    "e_den = impl_vmc.train(rng_key, params, model)"
   ]
  }
 ],
 "metadata": {
  "kernelspec": {
   "display_name": "pytorch",
   "language": "python",
   "name": "python3"
  },
  "language_info": {
   "codemirror_mode": {
    "name": "ipython",
    "version": 3
   },
   "file_extension": ".py",
   "mimetype": "text/x-python",
   "name": "python",
   "nbconvert_exporter": "python",
   "pygments_lexer": "ipython3",
   "version": "3.12.2"
  }
 },
 "nbformat": 4,
 "nbformat_minor": 2
}
