{
 "cells": [
  {
   "cell_type": "markdown",
   "metadata": {},
   "source": [
    "# Summer School\n",
    "\n",
    "## Using Neural Networks and Variational Monte Carlo for Ground State Search\n",
    "\n",
    "Let us consider the physics of the problem.\n",
    "\n",
    "- We are looking at a 2D lattice of Rydberg atoms\n",
    "- We will be using the Ising Model\n",
    "- We are assuming all-to-all interaction between all lattice sites\n",
    "- The Hamiltonian is as follows\n",
    "\n",
    "$$\n",
    "\\begin{equation}\n",
    "\\tilde{H} = - \\frac{\\Omega}{2} \\sum_{i = 1}^N \\left( \\hat{\\sigma}_i^x \\right) - \\delta \\sum_{i = 1}^N \\left ( \\hat{n}_i \\right )\n",
    "\\end{equation} + \\sum_{i,j} \\left ( V_{ij} \\hat{n}_i \\hat{n}_j \\right )\n",
    "$$\n",
    "\n",
    "\n",
    "where $V_{ij} = \\frac{7}{| \\textbf{r}_i - \\textbf{r}_j |^6}$."
   ]
  },
  {
   "cell_type": "markdown",
   "metadata": {},
   "source": [
    "## Library Imports"
   ]
  },
  {
   "cell_type": "code",
   "execution_count": 1,
   "metadata": {},
   "outputs": [],
   "source": [
    "import jax\n",
    "import math\n",
    "import optax\n",
    "import numpy as np\n",
    "import jax.numpy as jnp\n",
    "import flax.linen as nn\n",
    "from functools import partial\n",
    "from flax.training import train_state\n",
    "\n",
    "\n",
    "\n",
    "from flax.core import freeze, unfreeze"
   ]
  },
  {
   "cell_type": "code",
   "execution_count": 2,
   "metadata": {},
   "outputs": [],
   "source": [
    "class TQSPositionalEncoding2D(nn.Module):\n",
    "    d_model: int\n",
    "    param_dim: int\n",
    "    max_system_size: tuple = (50, 50)\n",
    "    dropout_rate: float = 0.0\n",
    "\n",
    "    def setup(self):\n",
    "        # validate max_system_size\n",
    "        max_system_size = np.array(self.max_system_size).reshape(-1)\n",
    "        assert len(max_system_size) == 2\n",
    "        \n",
    "\t\t# positional encoding\n",
    "        x, y = max_system_size\n",
    "        channels = int(np.ceil(self.d_model / 4) * 2)\n",
    "        div_term = jnp.exp(jnp.arange(0, channels, 2) * (-math.log(10000.0) / channels))\n",
    "\n",
    "        pos_x = jnp.arange(x).reshape(-1, 1)\n",
    "        pos_y = jnp.arange(y).reshape(-1, 1)\n",
    "        sin_inp_x = pos_x * div_term\n",
    "        sin_inp_y = pos_y * div_term\n",
    "\n",
    "        emb_x = jnp.zeros((x, channels))\n",
    "        emb_y = jnp.zeros((y, channels))\n",
    "\n",
    "        emb_x = emb_x.at[:, 0::2].set(jnp.sin(sin_inp_x))\n",
    "        emb_x = emb_x.at[:, 1::2].set(jnp.cos(sin_inp_x))\n",
    "        emb_y = emb_y.at[:, 0::2].set(jnp.sin(sin_inp_y))\n",
    "        emb_y = emb_y.at[:, 1::2].set(jnp.cos(sin_inp_y))\n",
    "\n",
    "        pe = jnp.zeros((x, y, 2 * channels))\n",
    "        pe = pe.at[:, :, :channels].set(emb_x[:, None, :])\n",
    "        pe = pe.at[:, :, channels:].set(emb_y[None, :, :])\n",
    "        pe = pe[:, :, :self.d_model].reshape(x, y, 1, self.d_model)\n",
    "        \n",
    "\n",
    "\t\t# set instance variables\n",
    "        self.pe = pe\n",
    "        self.mx_system_size = max_system_size\n",
    "        self.dropout_layer = nn.Dropout(rate=self.dropout_rate)\n",
    "        self.param_embedding = self.param('param_embedding', nn.initializers.normal(stddev=0.02), (self.param_dim, 1, self.d_model))\n",
    "\n",
    "    def __call__(self, x, system_size=None):\n",
    "        if system_size is None:\n",
    "            system_size = self.mx_system_size\n",
    "        pe = self.pe[:system_size[0], :system_size[1]].reshape(-1, 1, self.d_model)\n",
    "        pe = jnp.concatenate([self.param_embedding, pe], axis=0)\n",
    "        x = x + pe[:x.shape[0]]\n",
    "        return self.dropout_layer(x, deterministic=False)"
   ]
  },
  {
   "cell_type": "markdown",
   "metadata": {},
   "source": [
    "## Transformer Model"
   ]
  },
  {
   "cell_type": "code",
   "execution_count": 3,
   "metadata": {},
   "outputs": [],
   "source": [
    "class TransformerEncoderLayer(nn.Module):\n",
    "    emb_size: int\n",
    "    nhead: int\n",
    "    dim_feedforward: int\n",
    "    dropout: float = 0.1\n",
    "\n",
    "    def setup(self):\n",
    "        self.self_attn = nn.SelfAttention(num_heads=self.nhead, qkv_features=self.emb_size, dropout_rate=self.dropout)\n",
    "        self.linear1 = nn.Dense(self.dim_feedforward)\n",
    "        self.linear2 = nn.Dense(self.emb_size)\n",
    "        self.dropout_layer = nn.Dropout(self.dropout)\n",
    "        self.norm1 = nn.LayerNorm()\n",
    "        self.norm2 = nn.LayerNorm()\n",
    "\n",
    "    def __call__(self, src, deterministic=True):\n",
    "        src2 = self.self_attn(src, deterministic=deterministic)\n",
    "        src = src + self.dropout_layer(src2, deterministic=deterministic)\n",
    "        src = self.norm1(src)\n",
    "        src2 = self.linear2(self.dropout_layer(nn.relu(self.linear1(src)), deterministic=deterministic))\n",
    "        src = src + self.dropout_layer(src2, deterministic=deterministic)\n",
    "        src = self.norm2(src)\n",
    "        return src\n"
   ]
  },
  {
   "cell_type": "markdown",
   "metadata": {},
   "source": [
    "## Transformer Quantum State"
   ]
  },
  {
   "cell_type": "code",
   "execution_count": 4,
   "metadata": {},
   "outputs": [],
   "source": [
    "class TransformerQuantumState(nn.Module):\n",
    "    emb_size: int = 32\n",
    "    nhead: int = 8\n",
    "    num_encoder_layers: int = 8\n",
    "    dim_feedforward: int = 128\n",
    "    dropout: float = 0.0\n",
    "\n",
    "    def setup(self):\n",
    "        self.embedding = nn.Embed(num_embeddings=1000, features=self.emb_size)  # Adjust input dimension as needed\n",
    "        self.transformer_encoder = [\n",
    "            TransformerEncoderLayer(self.emb_size, self.nhead, self.dim_feedforward, self.dropout) \n",
    "            for _ in range(self.num_encoder_layers)\n",
    "        ]\n",
    "        self.amplitude_head = nn.Dense(1)\n",
    "        self.phase_head = nn.Dense(1)\n",
    "    \n",
    "    def __call__(self, src, train=True):\n",
    "        deterministic = not train\n",
    "        src = self.embedding(src) * jnp.sqrt(self.emb_size)\n",
    "        for layer in self.transformer_encoder:\n",
    "            src = layer(src, deterministic=deterministic)\n",
    "        amplitude = self.amplitude_head(src).squeeze(-1)\n",
    "        phase = jnp.pi * jnp.tanh(self.phase_head(src).squeeze(-1))\n",
    "        return amplitude, phase\n"
   ]
  },
  {
   "cell_type": "markdown",
   "metadata": {},
   "source": [
    "## Training the Model"
   ]
  },
  {
   "cell_type": "code",
   "execution_count": 5,
   "metadata": {},
   "outputs": [],
   "source": [
    "model = TransformerQuantumState()\n",
    "\n",
    "@jax.jit\n",
    "def compute_loss(params, batch):\n",
    "    amplitude, phase = model.apply({'params': params}, batch)\n",
    "    # Define your loss function based on your task\n",
    "    loss = jnp.mean((amplitude - batch['amplitude'])**2 + (phase - batch['phase'])**2)\n",
    "    return loss\n",
    "\n",
    "@jax.jit\n",
    "def train_step(params, opt_state, batch):\n",
    "    loss, grads = jax.value_and_grad(compute_loss)(params, batch)\n",
    "    opt_state = opt_state.apply_gradients(grads=grads)\n",
    "    return opt_state.params, opt_state, loss\n",
    "\n",
    "def train(params, state, data_loader, num_epochs=100):\n",
    "    for epoch in range(num_epochs):\n",
    "        total_loss = 0\n",
    "        for batch in data_loader:\n",
    "            params, state, loss = train_step(params, state, batch)\n",
    "            total_loss += loss\n",
    "        print(f'Epoch {epoch+1}, Loss: {total_loss/len(data_loader)}')\n",
    "\n",
    "\n"
   ]
  },
  {
   "cell_type": "code",
   "execution_count": 6,
   "metadata": {},
   "outputs": [],
   "source": [
    "\n",
    "# Initialize model and optimizer\n",
    "params = model.init(jax.random.PRNGKey(0), jnp.ones((1, 10), dtype=jnp.int32))['params']  # Example input\n",
    "optimizer = optax.adam(learning_rate=0.001)\n",
    "opt_state = train_state.TrainState.create(\n",
    "    apply_fn=model.apply, params=params, tx=optimizer\n",
    ")\n",
    "\n",
    "# Define a data loader with your data\n",
    "data_loader = [{'amplitude': jnp.array([0.1]), 'phase': jnp.array([0.2])}] * 100"
   ]
  },
  {
   "cell_type": "code",
   "execution_count": 7,
   "metadata": {},
   "outputs": [],
   "source": [
    "# data_loader"
   ]
  },
  {
   "cell_type": "code",
   "execution_count": 8,
   "metadata": {},
   "outputs": [],
   "source": [
    "# Train the model\n",
    "# train(params, opt_state, data_loader)"
   ]
  },
  {
   "cell_type": "markdown",
   "metadata": {},
   "source": [
    "## Sampling"
   ]
  },
  {
   "cell_type": "code",
   "execution_count": 9,
   "metadata": {},
   "outputs": [],
   "source": [
    "def sample(model, params, num_samples, sequence_length, key):\n",
    "    samples = []\n",
    "    for _ in range(num_samples):\n",
    "        sample_seq = []\n",
    "        for i in range(sequence_length):\n",
    "            src = jnp.array(sample_seq).reshape(1, -1)\n",
    "            amplitude, _ = model.apply({'params': params}, src)\n",
    "            probabilities = nn.activation.log_softmax(amplitude)\n",
    "            next_token = jax.random.choice(key, jnp.arange(probabilities.shape[-1]), p=probabilities)\n",
    "            sample_seq.append(next_token)\n",
    "        samples.append(sample_seq)\n",
    "    return samples\n",
    "\n",
    "# Example usage:\n",
    "# key = jax.random.PRNGKey(0)\n",
    "# samples = sample(model, params, num_samples=1000, sequence_length=10, key=key)\n"
   ]
  },
  {
   "cell_type": "code",
   "execution_count": 10,
   "metadata": {},
   "outputs": [
    {
     "name": "stdout",
     "output_type": "stream",
     "text": [
      "(60, 32, 512)\n"
     ]
    }
   ],
   "source": [
    "# Usage example for positional encoding\n",
    "if __name__ == \"__main__\":\n",
    "    import jax.random as random\n",
    "    \n",
    "    key = random.PRNGKey(0)\n",
    "    model = TQSPositionalEncoding2D(d_model=512, param_dim=10)\n",
    "    x = random.normal(key, (60, 32, 512))  # Example input: [sequence length, batch size, embed dim]\n",
    "\n",
    "    # Initialize parameters\n",
    "    params = model.init(key, x)\n",
    "\n",
    "    # Apply model\n",
    "    output = model.apply(params, x)\n",
    "    print(output.shape)\n"
   ]
  },
  {
   "cell_type": "code",
   "execution_count": 11,
   "metadata": {},
   "outputs": [],
   "source": [
    "# output"
   ]
  },
  {
   "cell_type": "code",
   "execution_count": 12,
   "metadata": {},
   "outputs": [
    {
     "name": "stdout",
     "output_type": "stream",
     "text": [
      "[[  0. -inf -inf -inf]\n",
      " [  0.   0. -inf -inf]\n",
      " [  0.   0.   0. -inf]\n",
      " [  0.   0.   0.   0.]]\n"
     ]
    }
   ],
   "source": [
    "import jax.numpy as jnp\n",
    "\n",
    "def get_square_mask(sz):\n",
    "    mask = jnp.triu(jnp.ones((sz, sz)), k=0).T\n",
    "    mask = jnp.where(mask == 0, -jnp.inf, mask)\n",
    "    mask = jnp.where(mask == 1, 0.0, mask)\n",
    "    return mask\n",
    "\n",
    "# Example usage:\n",
    "sz = 4\n",
    "mask = get_square_mask(sz)\n",
    "print(mask)"
   ]
  },
  {
   "cell_type": "code",
   "execution_count": 13,
   "metadata": {},
   "outputs": [],
   "source": [
    "def binomial_sampling(key, probs, total_counts):\n",
    "    return jax.random.binomial(key, n=total_counts, p=probs)"
   ]
  },
  {
   "cell_type": "code",
   "execution_count": 14,
   "metadata": {},
   "outputs": [],
   "source": [
    "def sample_from_transformer(key, params, model, batch_size = 1000, max_unique = 100):\n",
    "    # setting up\n",
    "    assert model.phys_dim == 2, \"Only spin 1/2 systems are supported\"\n",
    "    init_batch_size = batch_size\n",
    "    seq_len = np.prod(model.system_size)\n",
    "    samples = jnp.array((0, 1)) # initalize empty samples\n",
    "    sample_count = jnp.array([batch_size], dtype=jnp.int32)\n",
    "    keys = jax.random.split(key, seq_len)\n",
    "\t\n",
    "    def step(i, state):\n",
    "        samples, sample_count = state    \n",
    "        log_probs = model.apply({'params': params}, samples)\n",
    "        probs = jnp.exp(log_probs[-1])\n",
    "        \n",
    "\t\t# sample from probs\n",
    "        key = keys[i]\n",
    "        \n",
    "        if len(sample_count) < max_unique:\n",
    "            distribution = binomial_sampling(key, probs[:, 0], sample_count)\n",
    "            zero_count = distribution  # (batch, )\n",
    "            one_count = sample_count - zero_count\n",
    "            sample_count = jnp.concatenate([zero_count, one_count], axis=0)\n",
    "            mask = sample_count > 0\n",
    "\n",
    "            batch = samples.shape[1]\n",
    "            samples = jnp.concatenate([jnp.concatenate([samples, jnp.zeros((1, batch))], axis=0),\n",
    "                                       jnp.concatenate([samples, jnp.ones((1, batch))], axis=0)], axis=1)\n",
    "            samples = samples[:, mask]  # (seq, batch), with updated batch\n",
    "            sample_count = sample_count[mask]  # (batch, )\n",
    "        else:\n",
    "            sampled_spins = jax.random.categorical(key, probs, axis=1)  # (batch,)\n",
    "            samples = jnp.concatenate([samples, sampled_spins[jnp.newaxis, :]], axis=0)\n",
    "            \n",
    "        return samples, sample_count\n",
    "    \n",
    "    samples, sample_count = jax.lax.fori_loop(0, seq_len, step, (samples, sample_count))\n",
    "    \n",
    "\t# retrun samples and relative frequencies\n",
    "    return sample, sample_count / init_batch_size"
   ]
  },
  {
   "cell_type": "code",
   "execution_count": 15,
   "metadata": {},
   "outputs": [],
   "source": [
    "# def init_seq(self):\n",
    "#         system_size = self.system_size\n",
    "#         param = self.param\n",
    "#         parity = (system_size % 2).to(torch.get_default_dtype())  # (n_dim, )\n",
    "#         size_input = torch.diag(system_size.log())  # (n_dim, n_dim)\n",
    "\n",
    "#         init = torch.zeros(self.seq_prefix_len, 1, self.input_dim)\n",
    "\n",
    "#         # sequence consists of: [log(system_size[0]) log(system_size[1]) params spins]\n",
    "#         # input consists of: [phys_dim_0 phys_dim_1 log(system_size[0]) log(system_size[1]) parity(system_size) mask_token params]\n",
    "\n",
    "#         init[:self.n_dim, :, self.phys_dim:self.phys_dim + self.n_dim] = size_input.unsqueeze(1)  # (n_dim, 1, n_dim)\n",
    "#         init[:self.n_dim, :, self.phys_dim + self.n_dim] = parity.unsqueeze(1)  # (n_dim, 1)\n",
    "\n",
    "#         param_offset = self.phys_dim + self.n_dim + 2\n",
    "#         for i in range(self.param_dim):\n",
    "#             init[self.n_dim + i, :, param_offset + i] += param[i]\n",
    "#         return init \n",
    "\n",
    "\n",
    "# def wrap_spins(self, spins):\n",
    "#         \"\"\"\n",
    "#             prefix: (prefix_len, 1, input_dim)\n",
    "#             spins: (n, batch)\n",
    "#         \"\"\"\n",
    "#         phys_dim = 2\n",
    "#         prefix = self.init_seq()\n",
    "#         prefix_len, _, input_dim = prefix.shape\n",
    "#         n, batch = spins.shape\n",
    "#         src = torch.zeros(prefix_len + n, batch, input_dim)\n",
    "#         src[:prefix_len, :, :] = prefix\n",
    "#         src[prefix_len:, :, :self.phys_dim] = F.one_hot(spins.to(torch.int64), num_classes=phys_dim)\n",
    "#         return src"
   ]
  },
  {
   "cell_type": "code",
   "execution_count": 16,
   "metadata": {},
   "outputs": [],
   "source": [
    "class PositionalEncoding(nn.Module):\n",
    "    max_len: int\n",
    "    d_model: int\n",
    "\n",
    "    @nn.compact\n",
    "    def __call__(self, x):\n",
    "        # Compute positional encoding\n",
    "        pos_enc = self._positional_encoding(x.shape[1])\n",
    "        return x + pos_enc\n",
    "\n",
    "    def _positional_encoding(self, length):\n",
    "        pos = jnp.arange(length)[:, jnp.newaxis]\n",
    "        i = jnp.arange(self.d_model)[jnp.newaxis, :]\n",
    "        angle_rates = 1 / jnp.power(10000, (2 * (i // 2)) / jnp.float32(self.d_model))\n",
    "        angle_rads = pos * angle_rates\n",
    "\n",
    "        # Apply sin to even indices in the array; 2i\n",
    "        angle_rads = angle_rads.at[:, 0::2].set(jnp.sin(angle_rads[:, 0::2]))\n",
    "\n",
    "        # Apply cos to odd indices in the array; 2i+1\n",
    "        angle_rads = angle_rads.at[:, 1::2].set(jnp.cos(angle_rads[:, 1::2]))\n",
    "\n",
    "        pos_enc = angle_rads[jnp.newaxis, ...]\n",
    "        return pos_enc"
   ]
  },
  {
   "cell_type": "code",
   "execution_count": 17,
   "metadata": {},
   "outputs": [],
   "source": [
    "embedding_size = 32\n",
    "phys_dim = 2\n",
    "seq_len = 16\n",
    "\n",
    "encoder = PositionalEncoding(max_len=seq_len, d_model=embedding_size)"
   ]
  },
  {
   "cell_type": "code",
   "execution_count": null,
   "metadata": {},
   "outputs": [],
   "source": []
  },
  {
   "cell_type": "code",
   "execution_count": 18,
   "metadata": {},
   "outputs": [],
   "source": [
    "dummy_input = jnp.zeros((100, seq_len, 2))\n",
    "# params = encoder.init(jax.random.PRNGKey(0), dummy_input)\n",
    "sample_input = jnp.zeros((100, seq_len, 1))\n",
    "\n",
    "\n",
    "# one hot the sample input\n",
    "one_hot_sample = jax.nn.one_hot(sample_input, 2)"
   ]
  },
  {
   "cell_type": "code",
   "execution_count": 19,
   "metadata": {},
   "outputs": [],
   "source": [
    "class PositionalEncoder(nn.Module):\n",
    "    \"\"\"\n",
    "    A mixture of learnable and fixed positional encoding\n",
    "    the first param_dim inputs have a learnable pe (parameter part)\n",
    "    the rest have a sinusoidal pe (physical dimensions)\n",
    "    \"\"\"\n",
    "    param_dim: int \t\t\t# number of learnable parameters\n",
    "    max_len: int   \t\t\t# maximum length of the sequence\n",
    "    embed_dim: int = 32     # embedding dimension\n",
    "    dropout: float = 0.0    # dropout rate\n",
    "\n",
    "    @nn.compact\n",
    "    def __call__(self, x):\n",
    "        \"\"\"\n",
    "        Inputs of forward function\n",
    "        Args:\n",
    "            x: the sequence fed to the positional encoder model (required).\n",
    "        Shape:\n",
    "            x: [sequence length, batch size, embed dim]\n",
    "            output: [sequence length, batch size, embed dim]\n",
    "        Examples:\n",
    "            >>> output = pos_encoder(x)\n",
    "        \"\"\"\n",
    "        sequence_length = x.shape[1]\n",
    "\n",
    "        # Define the learnable parameter embedding\n",
    "        param_embedding = self.param('param_embedding', lambda rng_key: jax.random.normal(rng_key, (self.param_dim, 1, self.embed_dim), dtype=jnp.float32) * 0.02)\n",
    "\n",
    "        # Define the sinusoidal positional encoding\n",
    "        position = jnp.arange(0, self.max_len, dtype=jnp.float32).reshape(-1, 1)\n",
    "        div_term = jnp.exp(jnp.arange(0, self.embed_dim, 2, dtype=jnp.float32) * (-math.log(10000.0) / self.embed_dim))\n",
    "        \n",
    "        pe = jnp.zeros((self.max_len, self.embed_dim), dtype=jnp.float32)\n",
    "        pe = pe.at[:, 0::2].set(jnp.sin(position * div_term))\n",
    "        pe = pe.at[:, 1::2].set(jnp.cos(position * div_term))\n",
    "        # pe = jax.ops.index_update(pe, jax.ops.index[:, 0::2], jnp.sin(position * div_term))\n",
    "        # pe = jax.ops.index_update(pe, jax.ops.index[:, 1::2], jnp.cos(position * div_term))\n",
    "        pe = pe.reshape((self.max_len, 1, self.embed_dim))\n",
    "\n",
    "        # Concatenate the learnable parameter embedding and sinusoidal positional encoding\n",
    "        pe = jnp.concatenate([param_embedding, pe], axis=0)\n",
    "\n",
    "        # Add positional encoding to the input sequence\n",
    "        x = x + pe[:sequence_length]\n",
    "\n",
    "        # Apply dropout\n",
    "        x = nn.Dropout(rate=self.dropout, deterministic=False)(x)\n",
    "\n",
    "        return x\n"
   ]
  },
  {
   "cell_type": "markdown",
   "metadata": {},
   "source": [
    "# Final Implementation"
   ]
  },
  {
   "cell_type": "markdown",
   "metadata": {},
   "source": [
    "## Positional Encoder"
   ]
  },
  {
   "cell_type": "code",
   "execution_count": 20,
   "metadata": {},
   "outputs": [],
   "source": [
    "import seaborn as sns\n",
    "import matplotlib.pyplot as plt"
   ]
  },
  {
   "cell_type": "markdown",
   "metadata": {},
   "source": [
    "## Fixed Positional Encoder"
   ]
  },
  {
   "cell_type": "code",
   "execution_count": 21,
   "metadata": {},
   "outputs": [],
   "source": [
    "class PositionalEncoder(nn.Module):\n",
    "    d_model : int         \t# Hidden dimensionality of the input.\t\n",
    "    max_len : int = 16  \t# Maximum length of a sequence to expect.\n",
    "\n",
    "    def setup(self):\n",
    "        # Create matrix of [SeqLen, HiddenDim] representing the positional encoding for max_len inputs\n",
    "        pe = np.zeros((self.max_len, self.d_model))\n",
    "        position = np.arange(0, self.max_len, dtype=np.float32)[:,None]\n",
    "        div_term = np.exp(np.arange(0, self.d_model, 2) * (-math.log(10000.0) / self.d_model))\n",
    "        pe[:, 0::2] = np.sin(position * div_term)\n",
    "        pe[:, 1::2] = np.cos(position * div_term)\n",
    "        pe = pe[None]\n",
    "        self.pe = jax.device_put(pe)\n",
    "\n",
    "    def __call__(self, x):\n",
    "        x = x + self.pe[:, :x.shape[1]]\n",
    "        return x\n",
    "\n"
   ]
  },
  {
   "cell_type": "code",
   "execution_count": 22,
   "metadata": {},
   "outputs": [
    {
     "name": "stdout",
     "output_type": "stream",
     "text": [
      "Encoder Output Shape: (100, 16, 32)\n"
     ]
    }
   ],
   "source": [
    "sample_input = jnp.zeros((100, seq_len, 32))\n",
    "enc = PositionalEncoder(d_model=32, max_len=seq_len).bind({})\n",
    "print(f\"Encoder Output Shape: {enc(sample_input).shape}\")"
   ]
  },
  {
   "cell_type": "code",
   "execution_count": 23,
   "metadata": {},
   "outputs": [
    {
     "data": {
      "image/png": "[encoded data removed]",
      "text/plain": [
       "<Figure size 1200x400 with 4 Axes>"
      ]
     },
     "metadata": {},
     "output_type": "display_data"
    }
   ],
   "source": [
    "pe = jax.device_get(enc.pe.squeeze().T)\n",
    "\n",
    "sns.set_theme()\n",
    "fig, ax = plt.subplots(2, 2, figsize=(12,4))\n",
    "ax = [a for a_list in ax for a in a_list]\n",
    "for i in range(len(ax)):\n",
    "    ax[i].plot(np.arange(1,17), pe[i,:16], color=f'C{i}', marker=\"o\", markersize=6, markeredgecolor=\"black\")\n",
    "    ax[i].set_title(f\"Encoding in hidden dimension {i+1}\")\n",
    "    ax[i].set_xlabel(\"Position in sequence\", fontsize=10)\n",
    "    ax[i].set_ylabel(\"Positional encoding\", fontsize=10)\n",
    "    ax[i].set_xticks(np.arange(1,17))\n",
    "    ax[i].tick_params(axis='both', which='major', labelsize=10)\n",
    "    ax[i].tick_params(axis='both', which='minor', labelsize=8)\n",
    "    ax[i].set_ylim(-1.2, 1.2)\n",
    "fig.subplots_adjust(hspace=0.8)\n",
    "sns.reset_orig()\n",
    "plt.show()\n"
   ]
  },
  {
   "cell_type": "markdown",
   "metadata": {},
   "source": [
    "### PositionalEncoder with Learnable Parameters"
   ]
  },
  {
   "cell_type": "code",
   "execution_count": 24,
   "metadata": {},
   "outputs": [],
   "source": [
    "class LearnablePositionalEncoder(nn.Module):\n",
    "    d_model : int         \t# Hidden dimensionality of the input.\n",
    "    param_dim: int\t\t \t# Number of learnable parameters.\t\t\n",
    "    max_len : int = 16  \t# Maximum length of a sequence to expect.\n",
    "\n",
    "    def setup(self):\n",
    "        # Create matrix of [SeqLen, HiddenDim] representing the positional encoding for max_len inputs\n",
    "        pe = np.zeros((self.max_len, self.d_model))\n",
    "        position = np.arange(0, self.max_len, dtype=np.float32)[:,None]\n",
    "        div_term = np.exp(np.arange(0, self.d_model, 2) * (-math.log(10000.0) / self.d_model))\n",
    "        pe[:, 0::2] = np.sin(position * div_term)\n",
    "        pe[:, 1::2] = np.cos(position * div_term)\n",
    "        pe = pe[None]\n",
    "        self.pe = jax.device_put(pe)\n",
    "        \n",
    "\t\t# Create learnable parameter embedding and initialize it with normal distribution\n",
    "        self.param_embedding = self.param('param_embedding', nn.initializers.normal(stddev=0.02), (self.param_dim, 1, self.d_model))\n",
    "        self.param_embedding = jnp.transpose(self.param_embedding, (1, 0, 2))  # Shape: (1, param_dim, d_model)\n",
    "        \n",
    "\t\t# Concatenate the learnable parameter embedding and positional encoding\n",
    "        self.all_pe = jnp.concatenate([self.param_embedding, self.pe], axis=1)\n",
    "\n",
    "    def __call__(self, x):\n",
    "        x = x + self.all_pe[:, :x.shape[1]]\n",
    "        return x\n"
   ]
  },
  {
   "cell_type": "code",
   "execution_count": 25,
   "metadata": {},
   "outputs": [],
   "source": [
    "learnable_enc = LearnablePositionalEncoder(d_model=32, param_dim=5, max_len=seq_len)\n",
    "learnable_enc_params = learnable_enc.init(jax.random.PRNGKey(0), jnp.ones((1, seq_len, 32)))"
   ]
  },
  {
   "cell_type": "code",
   "execution_count": 26,
   "metadata": {},
   "outputs": [
    {
     "data": {
      "image/png": "[encoded data removed]",
      "text/plain": [
       "<Figure size 1200x400 with 4 Axes>"
      ]
     },
     "metadata": {},
     "output_type": "display_data"
    }
   ],
   "source": [
    "l_enc = learnable_enc.bind(learnable_enc_params)\n",
    "\n",
    "l_pe = jax.device_get(l_enc.all_pe.squeeze().T)\n",
    "\n",
    "sns.set_theme()\n",
    "fig, ax = plt.subplots(2, 2, figsize=(12,4))\n",
    "ax = [a for a_list in ax for a in a_list]\n",
    "for i in range(len(ax)):\n",
    "    ax[i].plot(np.arange(1,17), l_pe[i,:16], color=f'C{i}', marker=\"o\", markersize=6, markeredgecolor=\"black\")\n",
    "    ax[i].set_title(f\"Encoding in hidden dimension {i+1}\")\n",
    "    ax[i].set_xlabel(\"Position in sequence\", fontsize=10)\n",
    "    ax[i].set_ylabel(\"Positional encoding\", fontsize=10)\n",
    "    ax[i].set_xticks(np.arange(1,17))\n",
    "    ax[i].tick_params(axis='both', which='major', labelsize=10)\n",
    "    ax[i].tick_params(axis='both', which='minor', labelsize=8)\n",
    "    ax[i].set_ylim(-1.2, 1.2)\n",
    "fig.subplots_adjust(hspace=0.8)\n",
    "sns.reset_orig()\n",
    "plt.show()\n"
   ]
  },
  {
   "cell_type": "markdown",
   "metadata": {},
   "source": [
    "## Learning Rate WarmUp (Cosine Decay)"
   ]
  },
  {
   "cell_type": "markdown",
   "metadata": {},
   "source": [
    "### Manual Warm Up"
   ]
  },
  {
   "cell_type": "code",
   "execution_count": 27,
   "metadata": {},
   "outputs": [],
   "source": [
    "def cosine_warmup_schedule(base_lr: float, warmup: int, max_iters: int):\n",
    "    assert warmup > 0 and max_iters > 0\n",
    "    # Create function to return lr based on iteration count\n",
    "    def get_lr(train_iter):\n",
    "        lr_factor = 0.5 * (1 + np.cos(np.pi * train_iter / max_iters))\n",
    "        if train_iter <= warmup:\n",
    "            lr_factor *= train_iter * 1.0 / warmup\n",
    "        return lr_factor * base_lr\n",
    "    return get_lr"
   ]
  },
  {
   "cell_type": "code",
   "execution_count": 28,
   "metadata": {},
   "outputs": [
    {
     "data": {
      "image/png": "[encoded data removed]",
      "text/plain": [
       "<Figure size 800x300 with 1 Axes>"
      ]
     },
     "metadata": {},
     "output_type": "display_data"
    }
   ],
   "source": [
    "lr_scheduler = cosine_warmup_schedule(base_lr=1.0, warmup=100, max_iters=2000)\n",
    "\n",
    "# Plotting\n",
    "epochs = list(range(2000))\n",
    "sns.set()\n",
    "plt.figure(figsize=(8,3))\n",
    "plt.plot(epochs, [lr_scheduler(e) for e in epochs])\n",
    "plt.ylabel(\"Learning rate factor\")\n",
    "plt.xlabel(\"Iterations (in batches)\")\n",
    "plt.title(\"Cosine Warm-up Learning Rate Scheduler\")\n",
    "plt.show()\n",
    "sns.reset_orig()"
   ]
  },
  {
   "cell_type": "markdown",
   "metadata": {},
   "source": [
    "### Optax Implementation"
   ]
  },
  {
   "cell_type": "code",
   "execution_count": 29,
   "metadata": {},
   "outputs": [],
   "source": [
    "from optax import warmup_cosine_decay_schedule"
   ]
  },
  {
   "cell_type": "code",
   "execution_count": 30,
   "metadata": {},
   "outputs": [
    {
     "data": {
      "image/png": "[encoded data removed]",
      "text/plain": [
       "<Figure size 800x300 with 1 Axes>"
      ]
     },
     "metadata": {},
     "output_type": "display_data"
    }
   ],
   "source": [
    "get_lr = warmup_cosine_decay_schedule(0., 1., 100, 2000)\n",
    "\n",
    "epochs = list(range(2000))\n",
    "sns.set()\n",
    "plt.figure(figsize=(8,3))\n",
    "plt.plot(epochs, [get_lr(e) for e in epochs])\n",
    "plt.ylabel(\"Warm Up Cosine Decay from Optax\")\n",
    "plt.xlabel(\"Iterations (in batches)\")\n",
    "plt.title(\"Cosine Warm-up Learning Rate Scheduler\")\n",
    "plt.show()\n",
    "sns.reset_orig()"
   ]
  },
  {
   "cell_type": "markdown",
   "metadata": {},
   "source": [
    "## Transformer"
   ]
  },
  {
   "cell_type": "markdown",
   "metadata": {},
   "source": [
    "## Encoder Block"
   ]
  },
  {
   "cell_type": "code",
   "execution_count": 31,
   "metadata": {},
   "outputs": [],
   "source": [
    "class EncoderBlock(nn.Module):\n",
    "    input_dim: int\n",
    "    num_heads: int\n",
    "    feedfwd_dim: int\n",
    "    dropout_rate: float\n",
    "    \n",
    "    def setup(self):\n",
    "        # Multi-head attention layer\n",
    "        self.attn_layer = nn.MultiHeadAttention(\n",
    "            num_heads=self.num_heads,\n",
    "            kernel_init=nn.initializers.xavier_uniform(),\n",
    "            deterministic=False\n",
    "\t\t)\n",
    "        \n",
    "\t\t# Feedforward layer\n",
    "        self.linear_layers = [\n",
    "\t\t\tnn.Dense(features=self.feedfwd_dim),\n",
    "            nn.Dropout(rate=self.dropout_rate),\n",
    "            nn.relu,\n",
    "\t\t\tnn.Dense(features=self.input_dim)\n",
    "\t\t]\n",
    "        \n",
    "\t\t# Layer normalization\n",
    "        self.norm1 = nn.LayerNorm()\n",
    "        self.norm2 = nn.LayerNorm()\n",
    "        \n",
    "\t\t# Dropout layer for residual connections\n",
    "        self.dropout = nn.Dropout(rate=self.dropout_rate)\n",
    "        \n",
    "\t\t\n",
    "    def __call__(self, x, mask=None, train=True):\n",
    "        # Multi-head attention\n",
    "        attn = self.attn_layer(x, mask=mask, deterministic=not train)\n",
    "        \n",
    "\t\t# First residual connection and layer normalization\n",
    "        x = x + self.dropout(attn, deterministic=not train)\n",
    "        x = self.norm1(x)\n",
    "\t\t\n",
    "\t\t# Feedforward layer\n",
    "        linear_out = x\n",
    "        for layer in self.linear_layers:\n",
    "            linear_out = layer(linear_out) if not isinstance(layer, nn.Dropout) else layer(linear_out, deterministic=not train)\n",
    "        \n",
    "\t\t# Second residual connection and layer normalization\n",
    "        x = self.dropout(linear_out, deterministic=not train)\n",
    "        x = self.norm2(x)\n",
    "\t\t\n",
    "        return x\n",
    "\t\t"
   ]
  },
  {
   "cell_type": "markdown",
   "metadata": {},
   "source": [
    "### Transformer"
   ]
  },
  {
   "cell_type": "code",
   "execution_count": 32,
   "metadata": {},
   "outputs": [],
   "source": [
    "import math\n",
    "import flax.linen as nn\n",
    "import jax.numpy as jnp\n",
    "\n",
    "\n",
    "def expand_mask(mask):\n",
    "    assert jnp.ndim(mask) >= 2, \"Mask should have at least two dimensions\"\n",
    "    \n",
    "    if jnp.ndim(mask) == 3:\n",
    "        mask = jnp.expand_dims(mask, axis=1)\n",
    "    while jnp.ndim(mask) < 4:\n",
    "        mask = jnp.expand_dims(mask, axis=0)\n",
    "    return mask\n",
    "\n",
    "\n",
    "def scaled_dot_product_attn(q, k, v, mask = None):\n",
    "    d_k = q.shape[-1]\n",
    "    attn_logits = jnp.matmul(q, jnp.swapaxes(k, -2, -1))\n",
    "    attn_logits = attn_logits / math.sqrt(d_k)\n",
    "\n",
    "    if mask is not None:\n",
    "        attn_logits = jnp.where(mask == 0, float('-inf'), attn_logits)\n",
    "\n",
    "    attention = nn.softmax(attn_logits, axis=-1)\n",
    "    values = jnp.matmul(attention, v)   \n",
    "    return values, attention\n",
    "\n",
    "\n",
    "class MultiheadAttention(nn.Module):\n",
    "    embed_dim: int # Output dimension\n",
    "    num_heads: int # number of parallel heads\n",
    "\n",
    "\n",
    "    def setup(self):\n",
    "        self.qkv_proj = nn.Dense(\n",
    "            3 * self.embed_dim,\n",
    "            kernel_init=nn.initializers.xavier_uniform(),\n",
    "            bias_init=nn.initializers.zeros\n",
    "        )\n",
    "\n",
    "        self.out_proj = nn.Dense(\n",
    "            self.embed_dim,\n",
    "            kernel_init=nn.initializers.xavier_uniform(),\n",
    "            bias_init=nn.initializers.zeros\n",
    "        )\n",
    "\n",
    "    def __call__(self, x, mask=None):\n",
    "        batch_size, seq_length, embed_dim = x.shape\n",
    "        # mask = expand_mask(mask) if mask is not None else None\n",
    "\n",
    "        qkv = self.qkv_proj(x)\n",
    "        qkv = qkv.reshape(batch_size, seq_length, self.num_heads, -1)\n",
    "        qkv = qkv.transpose((0, 2, 1, 3)) # [batch_size, num_heads, seq_length, embed_dim]\n",
    "        q, k, v = jnp.array_split(qkv, 3, axis=-1)\n",
    "\n",
    "        values, attention = scaled_dot_product_attn(q, k, v, mask)\n",
    "        values = values.transpose((0, 2, 1, 3)) # [batch_size, seq_length, num_heads, embed_dim]\n",
    "        values = values.reshape(batch_size, seq_length, embed_dim)\n",
    "        output = self.out_proj(values)\n",
    "\n",
    "        # clean up\n",
    "        del qkv, q, k, v, values, batch_size, seq_length, embed_dim\n",
    "\n",
    "        return output, attention\n",
    "    \n",
    "\n",
    "class EncoderBlock(nn.Module):\n",
    "    input_dim: int\n",
    "    num_heads: int\n",
    "    dim_feedforward: int\n",
    "    dropout_prob: float\n",
    "\n",
    "    def setup(self):\n",
    "        self.self_attn = MultiheadAttention(self.input_dim, self.num_heads)\n",
    "\n",
    "        # MLP\n",
    "        self.linear = [\n",
    "            nn.Dense(self.dim_feedforward),\n",
    "            nn.Dropout(rate=self.dropout_prob),\n",
    "            nn.relu,\n",
    "            nn.Dense(self.input_dim),\n",
    "        ]\n",
    "\n",
    "        self.norm1 = nn.LayerNorm()\n",
    "        self.norm2 = nn.LayerNorm()\n",
    "        self.dropout = nn.Dropout(rate=self.dropout_prob)\n",
    "\n",
    "    def __call__(self, x, mask=None, train=True):\n",
    "\n",
    "        # attention block\n",
    "        attn_output, _ = self.self_attn(x, mask)\n",
    "        x += self.dropout(attn_output, deterministic=not train)\n",
    "        x = self.norm1(x)\n",
    "\n",
    "        # feedforward block\n",
    "        mlp_output = x\n",
    "        for layer in self.linear:\n",
    "            mlp_output = layer(mlp_output) if not isinstance(layer, nn.Dropout) else layer(mlp_output, deterministic=not train)\n",
    "\n",
    "        x += self.dropout(mlp_output, deterministic=not train)\n",
    "        x = self.norm2(x)\n",
    "\n",
    "        return x\n",
    "    "
   ]
  },
  {
   "cell_type": "code",
   "execution_count": 33,
   "metadata": {},
   "outputs": [],
   "source": [
    "import dataclasses"
   ]
  },
  {
   "cell_type": "code",
   "execution_count": 52,
   "metadata": {},
   "outputs": [],
   "source": [
    "class TransformerEncoder(nn.Module):\n",
    "    seq_len: int\n",
    "    num_layers: int\n",
    "    input_dim: int\n",
    "    num_heads: int\n",
    "    dim_feedforward: int\n",
    "    dropout_prob: float\n",
    "    \n",
    "\t# embedding parameters\n",
    "    _: dataclasses.KW_ONLY\n",
    "    embed_dim: int = 32\n",
    "    num_embeddings: int\t= 2\n",
    "\n",
    "    def setup(self):\n",
    "        self.layers = [EncoderBlock(self.input_dim, self.num_heads, self.dim_feedforward, self.dropout_prob) for _ in range(self.num_layers)]\n",
    "        self.embedding = nn.Embed(num_embeddings=self.num_embeddings, features=self.embed_dim)\n",
    "        self.pos_encoder = PositionalEncoder(d_model=self.embed_dim, max_len=self.seq_len)\n",
    "        \n",
    "\t\t# set the dimension of the amplitude head to the num_embeddings\n",
    "        self.amplitude_head = nn.Dense(features=self.num_embeddings)\n",
    "\n",
    "    def __call__(self, x, mask=None, train=True):\n",
    "        # Setup mask\n",
    "        mask = self._generate_mask(x.shape[1]) if mask is None else mask\n",
    "\n",
    "        # Step: Positional encoding + input embedding\n",
    "        x = jnp.squeeze(x, axis=-1)\n",
    "        x = self.embedding(x)\n",
    "        x = self.pos_encoder(x)\n",
    "        \n",
    "        # Step: Get logits from the transformer encoder\n",
    "        for layer in self.layers:\n",
    "            x = layer(x, mask=mask, train=train)\n",
    "        \n",
    "\t\t# Step: Apply Log-softmax to get probabilities\n",
    "        x = self.amplitude_head(x)\n",
    "        x = nn.activation.log_softmax(x)\n",
    "        \n",
    "\t\t# Step: Return the probabilities\n",
    "        return x\n",
    "\n",
    "    def get_attention_maps(self, x, mask=None, train=True):\n",
    "        # A function to return the attention maps within the model for a single application used for visualization purpose later\n",
    "        attention_maps = []\n",
    "        for l in self.layers:\n",
    "            _, attn_map = l.self_attn(x, mask=mask)\n",
    "            attention_maps.append(attn_map)\n",
    "            x = l(x, mask=mask, train=train)\n",
    "        return attention_maps\n",
    "    \n",
    "    @staticmethod\n",
    "    def _generate_mask(sz):\n",
    "        mask = jnp.triu(jnp.ones((sz, sz)), k=1).T\n",
    "        mask = jnp.where(mask == 0, -jnp.inf, 0.0)\n",
    "        # mask = jnp.triu(jnp.ones((sz, sz)), k=1)\n",
    "        return jnp.tril(jnp.ones((sz, sz)))"
   ]
  },
  {
   "cell_type": "code",
   "execution_count": 53,
   "metadata": {},
   "outputs": [
    {
     "name": "stdout",
     "output_type": "stream",
     "text": [
      "TransformerEncoder(\n",
      "    # attributes\n",
      "    seq_len = 16\n",
      "    num_layers = 8\n",
      "    input_dim = 32\n",
      "    num_heads = 8\n",
      "    dim_feedforward = 64\n",
      "    dropout_prob = 0.0\n",
      "    embed_dim = 32\n",
      "    num_embeddings = 2\n",
      ")\n"
     ]
    }
   ],
   "source": [
    "model = TransformerEncoder(seq_len=16, num_layers=8, input_dim=32, num_heads=8, dim_feedforward=64, dropout_prob=0.0)\n",
    "print(model)"
   ]
  },
  {
   "cell_type": "code",
   "execution_count": 55,
   "metadata": {},
   "outputs": [],
   "source": [
    "dummy_input = jnp.zeros((1, 16, 1), dtype=jnp.int32)\n",
    "params = model.init(jax.random.PRNGKey(0), dummy_input)['params']\n",
    "\n",
    "# jax.tree_util.tree_map(lambda x: x.shape, params)"
   ]
  },
  {
   "cell_type": "code",
   "execution_count": 62,
   "metadata": {},
   "outputs": [
    {
     "ename": "ZeroDivisionError",
     "evalue": "integer modulo by zero",
     "output_type": "error",
     "traceback": [
      "\u001b[1;31m---------------------------------------------------------------------------\u001b[0m",
      "\u001b[1;31mZeroDivisionError\u001b[0m                         Traceback (most recent call last)",
      "Cell \u001b[1;32mIn[62], line 2\u001b[0m\n\u001b[0;32m      1\u001b[0m real_input \u001b[38;5;241m=\u001b[39m jnp\u001b[38;5;241m.\u001b[39mzeros((\u001b[38;5;241m0\u001b[39m,\u001b[38;5;241m1\u001b[39m, \u001b[38;5;241m1\u001b[39m), dtype\u001b[38;5;241m=\u001b[39mjnp\u001b[38;5;241m.\u001b[39mint32)\n\u001b[1;32m----> 2\u001b[0m output \u001b[38;5;241m=\u001b[39m \u001b[43mmodel\u001b[49m\u001b[38;5;241;43m.\u001b[39;49m\u001b[43mapply\u001b[49m\u001b[43m(\u001b[49m\u001b[43m{\u001b[49m\u001b[38;5;124;43m'\u001b[39;49m\u001b[38;5;124;43mparams\u001b[39;49m\u001b[38;5;124;43m'\u001b[39;49m\u001b[43m:\u001b[49m\u001b[43m \u001b[49m\u001b[43mparams\u001b[49m\u001b[43m}\u001b[49m\u001b[43m,\u001b[49m\u001b[43m \u001b[49m\u001b[43mreal_input\u001b[49m\u001b[43m,\u001b[49m\u001b[43m \u001b[49m\u001b[43mtrain\u001b[49m\u001b[38;5;241;43m=\u001b[39;49m\u001b[38;5;28;43;01mTrue\u001b[39;49;00m\u001b[43m)\u001b[49m\n",
      "    \u001b[1;31m[... skipping hidden 6 frame]\u001b[0m\n",
      "Cell \u001b[1;32mIn[52], line 33\u001b[0m, in \u001b[0;36mTransformerEncoder.__call__\u001b[1;34m(self, x, mask, train)\u001b[0m\n\u001b[0;32m     31\u001b[0m         \u001b[38;5;66;03m# Step: Get logits from the transformer encoder\u001b[39;00m\n\u001b[0;32m     32\u001b[0m         \u001b[38;5;28;01mfor\u001b[39;00m layer \u001b[38;5;129;01min\u001b[39;00m \u001b[38;5;28mself\u001b[39m\u001b[38;5;241m.\u001b[39mlayers:\n\u001b[1;32m---> 33\u001b[0m             x \u001b[38;5;241m=\u001b[39m \u001b[43mlayer\u001b[49m\u001b[43m(\u001b[49m\u001b[43mx\u001b[49m\u001b[43m,\u001b[49m\u001b[43m \u001b[49m\u001b[43mmask\u001b[49m\u001b[38;5;241;43m=\u001b[39;49m\u001b[43mmask\u001b[49m\u001b[43m,\u001b[49m\u001b[43m \u001b[49m\u001b[43mtrain\u001b[49m\u001b[38;5;241;43m=\u001b[39;49m\u001b[43mtrain\u001b[49m\u001b[43m)\u001b[49m\n\u001b[0;32m     35\u001b[0m \t\t\u001b[38;5;66;03m# Step: Apply Log-softmax to get probabilities\u001b[39;00m\n\u001b[0;32m     36\u001b[0m         x \u001b[38;5;241m=\u001b[39m \u001b[38;5;28mself\u001b[39m\u001b[38;5;241m.\u001b[39mamplitude_head(x)\n",
      "    \u001b[1;31m[... skipping hidden 2 frame]\u001b[0m\n",
      "Cell \u001b[1;32mIn[32], line 91\u001b[0m, in \u001b[0;36mEncoderBlock.__call__\u001b[1;34m(self, x, mask, train)\u001b[0m\n\u001b[0;32m     88\u001b[0m \u001b[38;5;28;01mdef\u001b[39;00m \u001b[38;5;21m__call__\u001b[39m(\u001b[38;5;28mself\u001b[39m, x, mask\u001b[38;5;241m=\u001b[39m\u001b[38;5;28;01mNone\u001b[39;00m, train\u001b[38;5;241m=\u001b[39m\u001b[38;5;28;01mTrue\u001b[39;00m):\n\u001b[0;32m     89\u001b[0m \n\u001b[0;32m     90\u001b[0m     \u001b[38;5;66;03m# attention block\u001b[39;00m\n\u001b[1;32m---> 91\u001b[0m     attn_output, _ \u001b[38;5;241m=\u001b[39m \u001b[38;5;28;43mself\u001b[39;49m\u001b[38;5;241;43m.\u001b[39;49m\u001b[43mself_attn\u001b[49m\u001b[43m(\u001b[49m\u001b[43mx\u001b[49m\u001b[43m,\u001b[49m\u001b[43m \u001b[49m\u001b[43mmask\u001b[49m\u001b[43m)\u001b[49m\n\u001b[0;32m     92\u001b[0m     x \u001b[38;5;241m+\u001b[39m\u001b[38;5;241m=\u001b[39m \u001b[38;5;28mself\u001b[39m\u001b[38;5;241m.\u001b[39mdropout(attn_output, deterministic\u001b[38;5;241m=\u001b[39m\u001b[38;5;129;01mnot\u001b[39;00m train)\n\u001b[0;32m     93\u001b[0m     x \u001b[38;5;241m=\u001b[39m \u001b[38;5;28mself\u001b[39m\u001b[38;5;241m.\u001b[39mnorm1(x)\n",
      "    \u001b[1;31m[... skipping hidden 2 frame]\u001b[0m\n",
      "Cell \u001b[1;32mIn[32], line 52\u001b[0m, in \u001b[0;36mMultiheadAttention.__call__\u001b[1;34m(self, x, mask)\u001b[0m\n\u001b[0;32m     49\u001b[0m \u001b[38;5;66;03m# mask = expand_mask(mask) if mask is not None else None\u001b[39;00m\n\u001b[0;32m     51\u001b[0m qkv \u001b[38;5;241m=\u001b[39m \u001b[38;5;28mself\u001b[39m\u001b[38;5;241m.\u001b[39mqkv_proj(x)\n\u001b[1;32m---> 52\u001b[0m qkv \u001b[38;5;241m=\u001b[39m \u001b[43mqkv\u001b[49m\u001b[38;5;241;43m.\u001b[39;49m\u001b[43mreshape\u001b[49m\u001b[43m(\u001b[49m\u001b[43mbatch_size\u001b[49m\u001b[43m,\u001b[49m\u001b[43m \u001b[49m\u001b[43mseq_length\u001b[49m\u001b[43m,\u001b[49m\u001b[43m \u001b[49m\u001b[38;5;28;43mself\u001b[39;49m\u001b[38;5;241;43m.\u001b[39;49m\u001b[43mnum_heads\u001b[49m\u001b[43m,\u001b[49m\u001b[43m \u001b[49m\u001b[38;5;241;43m-\u001b[39;49m\u001b[38;5;241;43m1\u001b[39;49m\u001b[43m)\u001b[49m\n\u001b[0;32m     53\u001b[0m qkv \u001b[38;5;241m=\u001b[39m qkv\u001b[38;5;241m.\u001b[39mtranspose((\u001b[38;5;241m0\u001b[39m, \u001b[38;5;241m2\u001b[39m, \u001b[38;5;241m1\u001b[39m, \u001b[38;5;241m3\u001b[39m)) \u001b[38;5;66;03m# [batch_size, num_heads, seq_length, embed_dim]\u001b[39;00m\n\u001b[0;32m     54\u001b[0m q, k, v \u001b[38;5;241m=\u001b[39m jnp\u001b[38;5;241m.\u001b[39marray_split(qkv, \u001b[38;5;241m3\u001b[39m, axis\u001b[38;5;241m=\u001b[39m\u001b[38;5;241m-\u001b[39m\u001b[38;5;241m1\u001b[39m)\n",
      "    \u001b[1;31m[... skipping hidden 1 frame]\u001b[0m\n",
      "File \u001b[1;32mc:\\Users\\omo-olorun\\AppData\\Local\\miniconda3\\envs\\summer_school\\Lib\\site-packages\\jax\\_src\\numpy\\array_methods.py:126\u001b[0m, in \u001b[0;36m_compute_newshape\u001b[1;34m(a, newshape)\u001b[0m\n\u001b[0;32m    123\u001b[0m i, \u001b[38;5;241m=\u001b[39m neg1s\n\u001b[0;32m    124\u001b[0m other_sizes \u001b[38;5;241m=\u001b[39m (\u001b[38;5;241m*\u001b[39mnewshape[:i], \u001b[38;5;241m*\u001b[39mnewshape[i\u001b[38;5;241m+\u001b[39m\u001b[38;5;241m1\u001b[39m:])\n\u001b[0;32m    125\u001b[0m \u001b[38;5;28;01mif\u001b[39;00m (\u001b[38;5;28mall\u001b[39m(\u001b[38;5;28misinstance\u001b[39m(d, \u001b[38;5;28mint\u001b[39m) \u001b[38;5;28;01mfor\u001b[39;00m d \u001b[38;5;129;01min\u001b[39;00m (\u001b[38;5;241m*\u001b[39mnp\u001b[38;5;241m.\u001b[39mshape(a), \u001b[38;5;241m*\u001b[39mother_sizes)) \u001b[38;5;129;01mand\u001b[39;00m\n\u001b[1;32m--> 126\u001b[0m     \u001b[43mnp\u001b[49m\u001b[38;5;241;43m.\u001b[39;49m\u001b[43msize\u001b[49m\u001b[43m(\u001b[49m\u001b[43ma\u001b[49m\u001b[43m)\u001b[49m\u001b[43m \u001b[49m\u001b[38;5;241;43m%\u001b[39;49m\u001b[43m \u001b[49m\u001b[43mmath\u001b[49m\u001b[38;5;241;43m.\u001b[39;49m\u001b[43mprod\u001b[49m\u001b[43m(\u001b[49m\u001b[43mother_sizes\u001b[49m\u001b[43m)\u001b[49m \u001b[38;5;241m!=\u001b[39m \u001b[38;5;241m0\u001b[39m):\n\u001b[0;32m    127\u001b[0m   \u001b[38;5;28;01mraise\u001b[39;00m \u001b[38;5;167;01mTypeError\u001b[39;00m(\u001b[38;5;124mf\u001b[39m\u001b[38;5;124m\"\u001b[39m\u001b[38;5;124mcannot reshape array of shape \u001b[39m\u001b[38;5;132;01m{\u001b[39;00mnp\u001b[38;5;241m.\u001b[39mshape(a)\u001b[38;5;132;01m}\u001b[39;00m\u001b[38;5;124m (size \u001b[39m\u001b[38;5;132;01m{\u001b[39;00mnp\u001b[38;5;241m.\u001b[39msize(a)\u001b[38;5;132;01m}\u001b[39;00m\u001b[38;5;124m) \u001b[39m\u001b[38;5;124m\"\u001b[39m\n\u001b[0;32m    128\u001b[0m                   \u001b[38;5;124mf\u001b[39m\u001b[38;5;124m\"\u001b[39m\u001b[38;5;124minto shape \u001b[39m\u001b[38;5;132;01m{\u001b[39;00morig_newshape\u001b[38;5;132;01m}\u001b[39;00m\u001b[38;5;124m because the product of \u001b[39m\u001b[38;5;124m\"\u001b[39m\n\u001b[0;32m    129\u001b[0m                   \u001b[38;5;124mf\u001b[39m\u001b[38;5;124m\"\u001b[39m\u001b[38;5;124mspecified axis sizes (\u001b[39m\u001b[38;5;132;01m{\u001b[39;00mmath\u001b[38;5;241m.\u001b[39mprod(other_sizes)\u001b[38;5;132;01m}\u001b[39;00m\u001b[38;5;124m) does \u001b[39m\u001b[38;5;124m\"\u001b[39m\n\u001b[0;32m    130\u001b[0m                   \u001b[38;5;124mf\u001b[39m\u001b[38;5;124m\"\u001b[39m\u001b[38;5;124mnot evenly divide \u001b[39m\u001b[38;5;132;01m{\u001b[39;00mnp\u001b[38;5;241m.\u001b[39msize(a)\u001b[38;5;132;01m}\u001b[39;00m\u001b[38;5;124m\"\u001b[39m)\n\u001b[0;32m    131\u001b[0m sz \u001b[38;5;241m=\u001b[39m core\u001b[38;5;241m.\u001b[39mcancel_divide_tracers(np\u001b[38;5;241m.\u001b[39mshape(a), other_sizes)\n",
      "\u001b[1;31mZeroDivisionError\u001b[0m: integer modulo by zero"
     ]
    }
   ],
   "source": [
    "real_input = jnp.zeros((0,1, 1), dtype=jnp.int32)\n",
    "output = model.apply({'params': params}, real_input, train=True)"
   ]
  },
  {
   "cell_type": "code",
   "execution_count": 61,
   "metadata": {},
   "outputs": [
    {
     "data": {
      "text/plain": [
       "(1, 16)"
      ]
     },
     "execution_count": 61,
     "metadata": {},
     "output_type": "execute_result"
    }
   ],
   "source": [
    "sample = random.categorical(random.PRNGKey(23), output)\n",
    "sample.shape"
   ]
  },
  {
   "cell_type": "code",
   "execution_count": 39,
   "metadata": {},
   "outputs": [
    {
     "data": {
      "text/plain": [
       "Array([[1, 0, 1, ..., 0, 0, 0],\n",
       "       [0, 0, 0, ..., 1, 0, 1],\n",
       "       [1, 1, 0, ..., 0, 0, 0],\n",
       "       ...,\n",
       "       [0, 0, 0, ..., 1, 0, 0],\n",
       "       [0, 0, 0, ..., 0, 0, 0],\n",
       "       [0, 0, 0, ..., 0, 0, 0]], dtype=int32)"
      ]
     },
     "execution_count": 39,
     "metadata": {},
     "output_type": "execute_result"
    }
   ],
   "source": [
    "samples = jnp.zeros((500,16, 1), dtype=jnp.int32)\n",
    "log_prob = model.apply({'params': params}, samples, train=True)\n",
    "random.categorical(random.PRNGKey(23), log_prob)"
   ]
  },
  {
   "cell_type": "markdown",
   "metadata": {},
   "source": [
    "## NNX Transformer"
   ]
  },
  {
   "cell_type": "code",
   "execution_count": 42,
   "metadata": {},
   "outputs": [],
   "source": [
    "import math\n",
    "import numpy as np\n",
    "from flax import nnx\n",
    "from jax import random\n",
    "from typing import Dict\n",
    "from dataclasses import KW_ONLY, field\n",
    "from flax.linen import MultiHeadAttention, make_causal_mask, Embed\n",
    "from flax.linen.initializers import xavier_uniform, zeros"
   ]
  },
  {
   "cell_type": "code",
   "execution_count": 201,
   "metadata": {},
   "outputs": [],
   "source": [
    "attention_kwargs = dict(\n",
    "    num_heads=8,\n",
    "    qkv_features=16,\n",
    "    kernel_init=xavier_uniform,\n",
    "    bias_init=zeros,\n",
    "    dropout_rate=0.5,\n",
    "    deterministic=False,\n",
    ")\n",
    "\n",
    "class NQS(nn.Module):\n",
    "    seq_len: int\n",
    "    num_layers: int\n",
    "    dropout_prob: float\n",
    "    \n",
    "    _: KW_ONLY\n",
    "\t# embedding parameters\n",
    "    embed_dim: int = 32\n",
    "    num_embeddings: int\t= 2\n",
    "    \n",
    "\n",
    "    def setup(self):\n",
    "        self.layers = [\n",
    "            MultiHeadAttention(\n",
    "                num_heads=8,\n",
    "\t\t\t\tkernel_init=xavier_uniform(),\n",
    "                dropout_rate=self.dropout_prob,\n",
    "\t\t\t) \n",
    "            \tfor _ in range(self.num_layers)\n",
    "        ]\n",
    "        self.embedding = Embed(num_embeddings=self.num_embeddings, features=self.embed_dim)\n",
    "        self.pos_encoder = PositionalEncoder(d_model=self.embed_dim, max_len=self.seq_len)\n",
    "        \n",
    "\t\t# set the dimension of the amplitude head to the num_embeddings\n",
    "        self.amplitude_head = nn.Dense(features=self.num_embeddings)\n",
    "\n",
    "    def __call__(self, x, mask=None, train=True):\n",
    "        # Setup mask\n",
    "        mask = make_causal_mask(x) if mask is None else mask\n",
    "\n",
    "        # Step: Positional encoding + input embedding\n",
    "        # x = jnp.squeeze(x, axis=-1)\n",
    "        x = self.embedding(x)\n",
    "        x = self.pos_encoder(x)\n",
    "        \n",
    "        # Step: Get logits from the transformer encoder\n",
    "        for layer in self.layers:\n",
    "            x = layer(x, mask=mask, deterministic=not train)\n",
    "        \n",
    "\t\t# Step: Apply Log-softmax to get probabilities\n",
    "        x = self.amplitude_head(x)\n",
    "        x = nn.activation.log_softmax(x, axis=-1)\n",
    "        \n",
    "\t\t# Step: Return the probabilities\n",
    "        return x\n",
    "\n",
    "    def get_attention_maps(self, x, mask=None, train=True):\n",
    "        # A function to return the attention maps within the model for a single application used for visualization purpose later\n",
    "        attention_maps = []\n",
    "        for l in self.layers:\n",
    "            _, attn_map = l.self_attn(x, mask=mask)\n",
    "            attention_maps.append(attn_map)\n",
    "            x = l(x, mask=mask, train=train)\n",
    "        return attention_maps\n",
    "    \n",
    "    @staticmethod\n",
    "    def _generate_mask(sz):\n",
    "        mask = jnp.triu(jnp.ones((sz, sz)), k=1).T\n",
    "        mask = jnp.where(mask == 0, -jnp.inf, 0.0)\n",
    "        # mask = jnp.triu(jnp.ones((sz, sz)), k=1)\n",
    "        return mask"
   ]
  },
  {
   "cell_type": "code",
   "execution_count": 48,
   "metadata": {},
   "outputs": [],
   "source": [
    "\n"
   ]
  },
  {
   "cell_type": "code",
   "execution_count": 46,
   "metadata": {},
   "outputs": [],
   "source": [
    "layer = nn.MultiHeadAttention(num_heads=8, qkv_features=16)\n",
    "key1, key2, key3, key4, key5, key6 = jax.random.split(jax.random.key(0), 6)\n",
    "shape = (4, 3, 2, 5)\n",
    "q, k, v = jax.random.uniform(key1, shape), jax.random.uniform(key2, shape), jax.random.uniform(key3, shape)\n",
    "variables = layer.init(jax.random.key(0), q)"
   ]
  },
  {
   "cell_type": "code",
   "execution_count": null,
   "metadata": {},
   "outputs": [],
   "source": []
  },
  {
   "cell_type": "code",
   "execution_count": 202,
   "metadata": {},
   "outputs": [],
   "source": [
    "input_shape = (1,16)\n",
    "nqs = NQS(seq_len=16, num_layers=8, dropout_prob=0.0)\n",
    "params = nqs.init(jax.random.PRNGKey(0), jnp.ones(input_shape, dtype=jnp.int32))['params']"
   ]
  },
  {
   "cell_type": "code",
   "execution_count": 149,
   "metadata": {},
   "outputs": [],
   "source": [
    "n = 16\n",
    "keys = jax.random.split(jax.random.PRNGKey(0), n)\n",
    "dropout_keys = jax.random.split(jax.random.PRNGKey(1), n)\n",
    "\n",
    "samples = None\n",
    "samples = jnp.zeros((500,1), dtype=jnp.int32)\n",
    "for i in range(n-1):\n",
    "\tlog_prob = nqs.apply({'params': params}, samples, train=True, rngs={'dropout': dropout_keys[i]})\n",
    "\n",
    "\t# take the last log-probability\n",
    "\tlog_prob = log_prob[:, -1, :]\n",
    "\tsample = random.categorical(keys[i], log_prob)\n",
    "\tsample = jnp.expand_dims(sample, axis=1)\n",
    "\n",
    "\tsamples = sample if samples is None else jnp.concatenate([samples, sample], axis=1)"
   ]
  },
  {
   "cell_type": "code",
   "execution_count": 174,
   "metadata": {},
   "outputs": [],
   "source": [
    "def sample_from_transformer(nqs, params, num_samples, sequence_length, sample_key, dropout_key):\n",
    "\t\n",
    "\tsamples = jnp.zeros((num_samples, 1), dtype=jnp.int32)\n",
    "\tsample_keys = jax.random.split(sample_key, sequence_length)\n",
    "\tdropout_keys = jax.random.split(dropout_key, sequence_length)\n",
    "\n",
    "\tfor i in range(sequence_length):\n",
    "\t\tlog_prob = nqs.apply({'params': params}, samples, train=True, rngs={'dropout': dropout_keys[i]})\n",
    "\n",
    "\t\t# take the last log-probability\n",
    "\t\tlog_prob = log_prob[:, -1, :]\n",
    "\n",
    "\t\t# sample from the log-probabilities\n",
    "\t\tsample = random.categorical(sample_keys[i], log_prob)\n",
    "\t\tsample = jnp.expand_dims(sample, axis=1)\n",
    "\n",
    "\t\tsamples = sample if i == 0 else jnp.concatenate([samples, sample], axis=1)\n",
    "\treturn samples\n",
    "\n",
    "def transfomer_logpsi(params, x, nqs, dropout_key, train=True):\n",
    "\tlog_probs = nqs.apply({'params': params}, x, train=train, rngs={'dropout': dropout_key})\n",
    "\tlogP = jnp.sum(jnp.multiply(log_probs, jax.nn.one_hot(samples, 2)), axis=2)\n",
    "\tlogpsi = 0.5 * jnp.sum(logP, axis=1)\n",
    "\treturn logpsi"
   ]
  },
  {
   "cell_type": "code",
   "execution_count": 164,
   "metadata": {},
   "outputs": [],
   "source": [
    "samples = sample_from_transformer(nqs, params, 500, 16, random.PRNGKey(0), random.PRNGKey(1))"
   ]
  },
  {
   "cell_type": "code",
   "execution_count": 175,
   "metadata": {},
   "outputs": [],
   "source": [
    "logpsi = transfomer_logpsi(params, samples, nqs, random.PRNGKey(0), train=True)"
   ]
  },
  {
   "cell_type": "code",
   "execution_count": 177,
   "metadata": {},
   "outputs": [
    {
     "data": {
      "text/plain": [
       "(500,)"
      ]
     },
     "execution_count": 177,
     "metadata": {},
     "output_type": "execute_result"
    }
   ],
   "source": [
    "logpsi.shape"
   ]
  },
  {
   "cell_type": "code",
   "execution_count": 181,
   "metadata": {},
   "outputs": [],
   "source": [
    "from typing import List, Tuple, Union\n",
    "from abc import ABC, abstractmethod\n",
    "from dataclasses import dataclass\n",
    "import jax.numpy as jnp\n",
    "from jax import nn as jnn\n",
    "from jax import random, jit, lax, value_and_grad\n",
    "from flax import linen as nn\n",
    "from functools import partial, lru_cache\n",
    "import jax.tree_util as tree_util   \n",
    "import optax"
   ]
  },
  {
   "cell_type": "code",
   "execution_count": 182,
   "metadata": {},
   "outputs": [],
   "source": [
    "@lru_cache(maxsize=128, typed=False)\n",
    "def get_all_interactions_jax(n: int) -> tuple:\n",
    "    \"\"\"\n",
    "    Get all to all interactions from a n by n lattice using the euclidean distances.\n",
    "    Assume a unit distance (1) between nearest neighbours\n",
    "\n",
    "    Parameters\n",
    "    ---\n",
    "    n: integer representing a side of the square\n",
    "\n",
    "    Output\n",
    "    ---\n",
    "    tuple[unique_pairs, multipliers]\n",
    "    \"\"\"\n",
    "\n",
    "    # Create a grid of coordinates\n",
    "    x, y = jnp.meshgrid(jnp.arange(n), jnp.arange(n))\n",
    "    coordinates = jnp.stack([x.flatten(), y.flatten()], axis=1)\n",
    "\n",
    "    # Calculate distances between all unique pairs\n",
    "    num_points = coordinates.shape[0]\n",
    "    distances = jnp.sqrt(\n",
    "        jnp.sum((coordinates[:, None, :] - coordinates[None, :, :]) ** 2, axis=-1)\n",
    "    )\n",
    "\n",
    "    # Mask to select only unique pairs\n",
    "    mask = jnp.triu(jnp.ones((num_points, num_points), dtype=bool), k=1)\n",
    "\n",
    "    # Extract unique pairs, distances, and calculate multipliers\n",
    "    unique_pairs = jnp.argwhere(mask)\n",
    "    unique_distances = distances[mask]\n",
    "    multipliers = 1 / unique_distances ** 6\n",
    "\n",
    "    return unique_pairs, multipliers"
   ]
  },
  {
   "cell_type": "code",
   "execution_count": 235,
   "metadata": {},
   "outputs": [],
   "source": [
    "@dataclass\n",
    "class VMC:\n",
    "    nsamples: int\n",
    "    n: int\n",
    "    learning_rate: float\n",
    "    num_epochs: int\n",
    "    output_dim: int\n",
    "    sequence_length: int\n",
    "    num_hidden_units: int\n",
    "\n",
    "    def __post_init__(self):\n",
    "        self.pairs, self.multipliers = get_all_interactions_jax(self.n)\n",
    "        self.Omega = 1.0\n",
    "        self.delta = 1.0\n",
    "\n",
    "    \n",
    "    \n",
    "    def sample(self, key, params, model) -> List[Union[float, Tuple[float, ...]]]:\n",
    "        sample_key, dropout_key = random.split(key)\n",
    "        samples = jnp.zeros((self.nsamples, 1), dtype=jnp.int32)\n",
    "        sample_keys = jax.random.split(sample_key, self.sequence_length)\n",
    "        dropout_keys = jax.random.split(dropout_key, self.sequence_length)\n",
    "\n",
    "        for i in range(self.sequence_length):\n",
    "            log_prob = model.apply({'params': params}, samples, train=True, rngs={'dropout': dropout_keys[i]})\n",
    "\n",
    "\t\t\t# take the last log-probability\n",
    "            log_prob = log_prob[:, -1, :]\n",
    "\n",
    "\t\t\t# sample from the log-probabilities\n",
    "            sample = random.categorical(sample_keys[i], log_prob)\n",
    "            sample = jnp.expand_dims(sample, axis=1)\n",
    "\n",
    "            samples = sample if i == 0 else jnp.concatenate([samples, sample], axis=1)\n",
    "\n",
    "        return samples\n",
    "    \n",
    "    # def sample(self, key, params, model) -> List[Union[float, Tuple[float, ...]]]:\n",
    "    #     sample_key, dropout_key = random.split(key)\n",
    "    #     samples = jnp.zeros((self.nsamples, 1), dtype=jnp.int32)\n",
    "    #     sample_keys = jax.random.split(sample_key, self.sequence_length)\n",
    "    #     dropout_keys = jax.random.split(dropout_key, self.sequence_length)\n",
    "        \n",
    "        \n",
    "    #     def step(i, state):\n",
    "    #         # network_input = lax.dynamic_slice(operand=state, start_indices=(0, 0), slice_sizes=(self.nsamples, i+1))\n",
    "    #         network_input, samples = state\n",
    "    #         log_prob = model.apply({'params': params}, network_input, train=True, rngs={'dropout': dropout_keys[i]})\n",
    "    #         log_prob = log_prob[:, -1, :]\n",
    "    #         sample = random.categorical(sample_keys[i], log_prob)\n",
    "    #         sample = jnp.expand_dims(sample, axis=1)\n",
    "    #         samples = lax.dynamic_update_slice(operand=samples, update=sample, start_indices=(0, i))\n",
    "    #         network_input = jnp.concatenate([network_input, sample], axis=1)\n",
    "    #         return network_input, state\n",
    "        \n",
    "    #     initial_samples = jnp.zeros((self.nsamples, self.sequence_length), dtype=jnp.int32)\n",
    "    #     initial_input = jnp.zeros((self.nsamples, 1), dtype=jnp.int32)\n",
    "    #     samples = lax.fori_loop(0, self.sequence_length, step, (initial_input, initial_samples))\n",
    "        \n",
    "    #     return samples\n",
    "    \n",
    "\n",
    "    def logpsi(self, samples: List[Union[float, Tuple[float, ...]]], params, model, dropout_key) -> List[float]:\n",
    "        ss = (0, self.sequence_length - 1)\n",
    "        nsamples = samples.shape[0]\n",
    "        data   = samples[:, ss[0]:ss[1]]\n",
    "        inputs = jnp.concatenate([jnp.zeros((nsamples, 1), dtype=jnp.int32), data], axis = 1)\n",
    "\n",
    "        log_probs = model.apply({'params': params}, inputs, train=False, rngs={'dropout': dropout_key})\n",
    "\n",
    "        logP   = jnp.sum(jnp.multiply(log_probs, jnn.one_hot(samples, self.output_dim)), axis=2)\n",
    "        logP = 0.5 * jnp.sum(logP, axis=1)\n",
    "        return logP\n",
    "    \n",
    "    \n",
    "\n",
    "\n",
    "    def get_loss(self, params, rng_key, model):\n",
    "        def l2_loss(x, alpha):\n",
    "            return alpha * (x ** 2).mean()\n",
    "\n",
    "        @jit\n",
    "        def all_reg():\n",
    "            return sum(\n",
    "                l2_loss(w, alpha=0.001) for w in tree_util.tree_leaves(params[\"params\"])\n",
    "            )\n",
    "        \n",
    "        s_key, d_key = random.split(rng_key, 2)\n",
    "\n",
    "        samples = self.sample(s_key, params, model)\n",
    "        log_psi = self.logpsi(samples, params, model)\n",
    "        e_loc = self.local_energy(samples, params, model, log_psi, d_key)\n",
    "        e_o = e_loc.mean()\n",
    "\n",
    "        # We expand the equation in the text above\n",
    "        first_term = 2 * jnp.multiply(log_psi, e_loc)\n",
    "        second_term = 2 * jnp.multiply(e_o, log_psi)\n",
    "\n",
    "        # l2_reg = all_reg()\n",
    "\n",
    "        loss = jnp.mean(first_term - second_term)\n",
    "        # loss = l2_reg(params) + loss\n",
    "        # loss += l2_reg\n",
    "        return loss, e_loc\n",
    "    \n",
    "\n",
    "    def train(self, rng_key, params, model):\n",
    "        rng_key = random.PRNGKey(0)\n",
    "        \n",
    "        optimizer = optax.adam(learning_rate=self.learning_rate)\n",
    "        opt_state = optimizer.init(params)\n",
    "\n",
    "        loss_fn = self.get_loss\n",
    "    \n",
    "\n",
    "        @partial(jit, static_argnums=(3,))\n",
    "        def step(params, rng_key, opt_state, get_loss=loss_fn):\n",
    "            rng_key, new_key = random.split(rng_key)\n",
    "\n",
    "            value, grads = value_and_grad(get_loss, has_aux=True)(params, rng_key, model)\n",
    "            updates, opt_state = optimizer.update(grads, opt_state, params)\n",
    "            params = optax.apply_updates(params, updates)\n",
    "            return new_key, params, opt_state, value\n",
    "\n",
    "        energies = []\n",
    "        for i in range(self.num_epochs):\n",
    "            rng_key, params, opt_state, (loss, eloc) = step(params, rng_key, opt_state)\n",
    "            energies.append(eloc)\n",
    "\n",
    "            if i % 100 == 0:\n",
    "                print(f'step {i}, loss: {loss}')\n",
    "\n",
    "        return energies\n",
    "    \n",
    "    \n",
    "    \n",
    "    def local_energy(self, samples, params, model, log_psi, dropout_key) -> List[float]:\n",
    "        output = jnp.zeros((samples.shape[0]), dtype=jnp.float32)\n",
    "\n",
    "        def step_fn_chemical(i, state):\n",
    "            s, output = state\n",
    "            output += - self.delta * s[:, i]\n",
    "            return s, output\n",
    "\n",
    "        def step_fn_intr(i, state):\n",
    "            samples, pairs, multipliers, output = state\n",
    "            output += multipliers[i] * samples[:, pairs[i, 0]] * samples[:, pairs[i, 1]]\n",
    "            return samples, pairs, multipliers, output\n",
    "\n",
    "\n",
    "        def step_fn_transverse(i, state):\n",
    "            s, output = state\n",
    "            flipped_state = s.at[:, i].set(1 - s[:, i])\n",
    "            flipped_logpsi = self.logpsi(flipped_state, params, model, dropout_key)\n",
    "            output += - self.Omega * jnp.exp(flipped_logpsi - log_psi)\n",
    "            return s, output\n",
    "\n",
    "\n",
    "    \t# Interaction Term\n",
    "        _, _, _, interaction_term = lax.fori_loop(0, 120, step_fn_intr, (samples, self.pairs, self.multipliers, output))\n",
    "        # Off Diagonal Term\n",
    "        _, transverse_field = lax.fori_loop(0, 16, step_fn_transverse, (samples, output))\n",
    "        # _, transverse_field = lax.fori_loop(0, 16, step_fn_transverse, (samples, output))\n",
    "        # Occupancy Term\n",
    "        _, chemical_potential = lax.fori_loop(0, 16, step_fn_chemical, (samples, output))\n",
    "\n",
    "        # Total energy\n",
    "        loc_e = transverse_field + chemical_potential + interaction_term\n",
    "\t\t\n",
    "        return loc_e"
   ]
  },
  {
   "cell_type": "code",
   "execution_count": 184,
   "metadata": {},
   "outputs": [],
   "source": [
    "from typing import NamedTuple\n",
    "\n",
    "class VMCConfig(NamedTuple):\n",
    "    nsamples: int = 500\n",
    "    n: int = 4\n",
    "    learning_rate: float = 0.005\n",
    "    num_epochs: int = 1000\n",
    "    output_dim: int = 2\n",
    "    sequence_length: int = 16\n",
    "    num_hidden_units: int = 64"
   ]
  },
  {
   "cell_type": "code",
   "execution_count": 185,
   "metadata": {},
   "outputs": [
    {
     "data": {
      "text/plain": [
       "VMCConfig(nsamples=1000, n=4, learning_rate=0.005, num_epochs=1000, output_dim=2, sequence_length=16, num_hidden_units=64)"
      ]
     },
     "execution_count": 185,
     "metadata": {},
     "output_type": "execute_result"
    }
   ],
   "source": [
    "config = VMCConfig()\n",
    "config"
   ]
  },
  {
   "cell_type": "code",
   "execution_count": 236,
   "metadata": {},
   "outputs": [],
   "source": [
    "vmc = VMC(**config._asdict())"
   ]
  },
  {
   "cell_type": "code",
   "execution_count": 237,
   "metadata": {},
   "outputs": [
    {
     "ename": "TypeError",
     "evalue": "Scanned function carry input and carry output must have the same pytree structure, but they differ:\n  * the input carry component loop_carry[1][1] is a <class 'jax._src.interpreters.partial_eval.DynamicJaxprTracer'> but the corresponding component of the carry output is a <class 'tuple'>, so their Python types differ\n\nRevise the scanned function so that its output is a pair where the first element has the same pytree structure as the first argument.",
     "output_type": "error",
     "traceback": [
      "\u001b[1;31m---------------------------------------------------------------------------\u001b[0m",
      "\u001b[1;31mTypeError\u001b[0m                                 Traceback (most recent call last)",
      "Cell \u001b[1;32mIn[237], line 2\u001b[0m\n\u001b[0;32m      1\u001b[0m rng_key \u001b[38;5;241m=\u001b[39m random\u001b[38;5;241m.\u001b[39mPRNGKey(\u001b[38;5;241m0\u001b[39m)\n\u001b[1;32m----> 2\u001b[0m densities \u001b[38;5;241m=\u001b[39m \u001b[43mvmc\u001b[49m\u001b[38;5;241;43m.\u001b[39;49m\u001b[43mtrain\u001b[49m\u001b[43m(\u001b[49m\u001b[43mrng_key\u001b[49m\u001b[43m,\u001b[49m\u001b[43m \u001b[49m\u001b[43mparams\u001b[49m\u001b[43m,\u001b[49m\u001b[43m \u001b[49m\u001b[43mnqs\u001b[49m\u001b[43m)\u001b[49m\n",
      "Cell \u001b[1;32mIn[235], line 127\u001b[0m, in \u001b[0;36mVMC.train\u001b[1;34m(self, rng_key, params, model)\u001b[0m\n\u001b[0;32m    125\u001b[0m energies \u001b[38;5;241m=\u001b[39m []\n\u001b[0;32m    126\u001b[0m \u001b[38;5;28;01mfor\u001b[39;00m i \u001b[38;5;129;01min\u001b[39;00m \u001b[38;5;28mrange\u001b[39m(\u001b[38;5;28mself\u001b[39m\u001b[38;5;241m.\u001b[39mnum_epochs):\n\u001b[1;32m--> 127\u001b[0m     rng_key, params, opt_state, (loss, eloc) \u001b[38;5;241m=\u001b[39m \u001b[43mstep\u001b[49m\u001b[43m(\u001b[49m\u001b[43mparams\u001b[49m\u001b[43m,\u001b[49m\u001b[43m \u001b[49m\u001b[43mrng_key\u001b[49m\u001b[43m,\u001b[49m\u001b[43m \u001b[49m\u001b[43mopt_state\u001b[49m\u001b[43m)\u001b[49m\n\u001b[0;32m    128\u001b[0m     energies\u001b[38;5;241m.\u001b[39mappend(eloc)\n\u001b[0;32m    130\u001b[0m     \u001b[38;5;28;01mif\u001b[39;00m i \u001b[38;5;241m%\u001b[39m \u001b[38;5;241m100\u001b[39m \u001b[38;5;241m==\u001b[39m \u001b[38;5;241m0\u001b[39m:\n",
      "    \u001b[1;31m[... skipping hidden 11 frame]\u001b[0m\n",
      "Cell \u001b[1;32mIn[235], line 120\u001b[0m, in \u001b[0;36mVMC.train.<locals>.step\u001b[1;34m(params, rng_key, opt_state, get_loss)\u001b[0m\n\u001b[0;32m    116\u001b[0m \u001b[38;5;129m@partial\u001b[39m(jit, static_argnums\u001b[38;5;241m=\u001b[39m(\u001b[38;5;241m3\u001b[39m,))\n\u001b[0;32m    117\u001b[0m \u001b[38;5;28;01mdef\u001b[39;00m \u001b[38;5;21mstep\u001b[39m(params, rng_key, opt_state, get_loss\u001b[38;5;241m=\u001b[39mloss_fn):\n\u001b[0;32m    118\u001b[0m     rng_key, new_key \u001b[38;5;241m=\u001b[39m random\u001b[38;5;241m.\u001b[39msplit(rng_key)\n\u001b[1;32m--> 120\u001b[0m     value, grads \u001b[38;5;241m=\u001b[39m \u001b[43mvalue_and_grad\u001b[49m\u001b[43m(\u001b[49m\u001b[43mget_loss\u001b[49m\u001b[43m,\u001b[49m\u001b[43m \u001b[49m\u001b[43mhas_aux\u001b[49m\u001b[38;5;241;43m=\u001b[39;49m\u001b[38;5;28;43;01mTrue\u001b[39;49;00m\u001b[43m)\u001b[49m\u001b[43m(\u001b[49m\u001b[43mparams\u001b[49m\u001b[43m,\u001b[49m\u001b[43m \u001b[49m\u001b[43mrng_key\u001b[49m\u001b[43m,\u001b[49m\u001b[43m \u001b[49m\u001b[43mmodel\u001b[49m\u001b[43m)\u001b[49m\n\u001b[0;32m    121\u001b[0m     updates, opt_state \u001b[38;5;241m=\u001b[39m optimizer\u001b[38;5;241m.\u001b[39mupdate(grads, opt_state, params)\n\u001b[0;32m    122\u001b[0m     params \u001b[38;5;241m=\u001b[39m optax\u001b[38;5;241m.\u001b[39mapply_updates(params, updates)\n",
      "    \u001b[1;31m[... skipping hidden 8 frame]\u001b[0m\n",
      "Cell \u001b[1;32mIn[235], line 90\u001b[0m, in \u001b[0;36mVMC.get_loss\u001b[1;34m(self, params, rng_key, model)\u001b[0m\n\u001b[0;32m     84\u001b[0m     \u001b[38;5;28;01mreturn\u001b[39;00m \u001b[38;5;28msum\u001b[39m(\n\u001b[0;32m     85\u001b[0m         l2_loss(w, alpha\u001b[38;5;241m=\u001b[39m\u001b[38;5;241m0.001\u001b[39m) \u001b[38;5;28;01mfor\u001b[39;00m w \u001b[38;5;129;01min\u001b[39;00m tree_util\u001b[38;5;241m.\u001b[39mtree_leaves(params[\u001b[38;5;124m\"\u001b[39m\u001b[38;5;124mparams\u001b[39m\u001b[38;5;124m\"\u001b[39m])\n\u001b[0;32m     86\u001b[0m     )\n\u001b[0;32m     88\u001b[0m s_key, d_key \u001b[38;5;241m=\u001b[39m random\u001b[38;5;241m.\u001b[39msplit(rng_key, \u001b[38;5;241m2\u001b[39m)\n\u001b[1;32m---> 90\u001b[0m samples \u001b[38;5;241m=\u001b[39m \u001b[38;5;28;43mself\u001b[39;49m\u001b[38;5;241;43m.\u001b[39;49m\u001b[43msample\u001b[49m\u001b[43m(\u001b[49m\u001b[43ms_key\u001b[49m\u001b[43m,\u001b[49m\u001b[43m \u001b[49m\u001b[43mparams\u001b[49m\u001b[43m,\u001b[49m\u001b[43m \u001b[49m\u001b[43mmodel\u001b[49m\u001b[43m)\u001b[49m\n\u001b[0;32m     91\u001b[0m log_psi \u001b[38;5;241m=\u001b[39m \u001b[38;5;28mself\u001b[39m\u001b[38;5;241m.\u001b[39mlogpsi(samples, params, model)\n\u001b[0;32m     92\u001b[0m e_loc \u001b[38;5;241m=\u001b[39m \u001b[38;5;28mself\u001b[39m\u001b[38;5;241m.\u001b[39mlocal_energy(samples, params, model, log_psi, d_key)\n",
      "Cell \u001b[1;32mIn[235], line 58\u001b[0m, in \u001b[0;36mVMC.sample\u001b[1;34m(self, key, params, model)\u001b[0m\n\u001b[0;32m     56\u001b[0m initial_samples \u001b[38;5;241m=\u001b[39m jnp\u001b[38;5;241m.\u001b[39mzeros((\u001b[38;5;28mself\u001b[39m\u001b[38;5;241m.\u001b[39mnsamples, \u001b[38;5;28mself\u001b[39m\u001b[38;5;241m.\u001b[39msequence_length), dtype\u001b[38;5;241m=\u001b[39mjnp\u001b[38;5;241m.\u001b[39mint32)\n\u001b[0;32m     57\u001b[0m initial_input \u001b[38;5;241m=\u001b[39m jnp\u001b[38;5;241m.\u001b[39mzeros((\u001b[38;5;28mself\u001b[39m\u001b[38;5;241m.\u001b[39mnsamples, \u001b[38;5;241m1\u001b[39m), dtype\u001b[38;5;241m=\u001b[39mjnp\u001b[38;5;241m.\u001b[39mint32)\n\u001b[1;32m---> 58\u001b[0m samples \u001b[38;5;241m=\u001b[39m \u001b[43mlax\u001b[49m\u001b[38;5;241;43m.\u001b[39;49m\u001b[43mfori_loop\u001b[49m\u001b[43m(\u001b[49m\u001b[38;5;241;43m0\u001b[39;49m\u001b[43m,\u001b[49m\u001b[43m \u001b[49m\u001b[38;5;28;43mself\u001b[39;49m\u001b[38;5;241;43m.\u001b[39;49m\u001b[43msequence_length\u001b[49m\u001b[43m,\u001b[49m\u001b[43m \u001b[49m\u001b[43mstep\u001b[49m\u001b[43m,\u001b[49m\u001b[43m \u001b[49m\u001b[43m(\u001b[49m\u001b[43minitial_input\u001b[49m\u001b[43m,\u001b[49m\u001b[43m \u001b[49m\u001b[43minitial_samples\u001b[49m\u001b[43m)\u001b[49m\u001b[43m)\u001b[49m\n\u001b[0;32m     60\u001b[0m \u001b[38;5;28;01mreturn\u001b[39;00m samples\n",
      "    \u001b[1;31m[... skipping hidden 4 frame]\u001b[0m\n",
      "File \u001b[1;32mc:\\Users\\omo-olorun\\AppData\\Local\\miniconda3\\envs\\summer_school\\Lib\\site-packages\\jax\\_src\\lax\\control_flow\\loops.py:338\u001b[0m, in \u001b[0;36m_check_scan_carry_type\u001b[1;34m(body_fun, in_carry, out_carry_tree, out_avals)\u001b[0m\n\u001b[0;32m    332\u001b[0m   \u001b[38;5;28;01melse\u001b[39;00m:\n\u001b[0;32m    333\u001b[0m     differences \u001b[38;5;241m=\u001b[39m \u001b[38;5;124m'\u001b[39m\u001b[38;5;130;01m\\n\u001b[39;00m\u001b[38;5;124m'\u001b[39m\u001b[38;5;241m.\u001b[39mjoin(\n\u001b[0;32m    334\u001b[0m         \u001b[38;5;124mf\u001b[39m\u001b[38;5;124m'\u001b[39m\u001b[38;5;124m  * \u001b[39m\u001b[38;5;132;01m{\u001b[39;00mcomponent(path)\u001b[38;5;132;01m}\u001b[39;00m\u001b[38;5;124m is a \u001b[39m\u001b[38;5;132;01m{\u001b[39;00mthing1\u001b[38;5;132;01m}\u001b[39;00m\u001b[38;5;124m but the corresponding component \u001b[39m\u001b[38;5;124m'\u001b[39m\n\u001b[0;32m    335\u001b[0m         \u001b[38;5;124mf\u001b[39m\u001b[38;5;124m'\u001b[39m\u001b[38;5;124mof the carry output is a \u001b[39m\u001b[38;5;132;01m{\u001b[39;00mthing2\u001b[38;5;132;01m}\u001b[39;00m\u001b[38;5;124m, so \u001b[39m\u001b[38;5;132;01m{\u001b[39;00mexplanation\u001b[38;5;132;01m}\u001b[39;00m\u001b[38;5;130;01m\\n\u001b[39;00m\u001b[38;5;124m'\u001b[39m\n\u001b[0;32m    336\u001b[0m         \u001b[38;5;28;01mfor\u001b[39;00m path, thing1, thing2, explanation\n\u001b[0;32m    337\u001b[0m         \u001b[38;5;129;01min\u001b[39;00m equality_errors(in_carry, out_carry))\n\u001b[1;32m--> 338\u001b[0m   \u001b[38;5;28;01mraise\u001b[39;00m \u001b[38;5;167;01mTypeError\u001b[39;00m(\n\u001b[0;32m    339\u001b[0m       \u001b[38;5;124m\"\u001b[39m\u001b[38;5;124mScanned function carry input and carry output must have the same \u001b[39m\u001b[38;5;124m\"\u001b[39m\n\u001b[0;32m    340\u001b[0m       \u001b[38;5;124m\"\u001b[39m\u001b[38;5;124mpytree structure, but they differ:\u001b[39m\u001b[38;5;130;01m\\n\u001b[39;00m\u001b[38;5;124m\"\u001b[39m\n\u001b[0;32m    341\u001b[0m       \u001b[38;5;124mf\u001b[39m\u001b[38;5;124m\"\u001b[39m\u001b[38;5;132;01m{\u001b[39;00mdifferences\u001b[38;5;132;01m}\u001b[39;00m\u001b[38;5;130;01m\\n\u001b[39;00m\u001b[38;5;124m\"\u001b[39m\n\u001b[0;32m    342\u001b[0m       \u001b[38;5;124m\"\u001b[39m\u001b[38;5;124mRevise the scanned function so that its output is a pair where the \u001b[39m\u001b[38;5;124m\"\u001b[39m\n\u001b[0;32m    343\u001b[0m       \u001b[38;5;124m\"\u001b[39m\u001b[38;5;124mfirst element has the same pytree structure as the first argument.\u001b[39m\u001b[38;5;124m\"\u001b[39m\n\u001b[0;32m    344\u001b[0m   )\n\u001b[0;32m    345\u001b[0m \u001b[38;5;28;01mif\u001b[39;00m \u001b[38;5;129;01mnot\u001b[39;00m \u001b[38;5;28mall\u001b[39m(_map(core\u001b[38;5;241m.\u001b[39mtypematch, in_avals, out_avals)):\n\u001b[0;32m    346\u001b[0m   differences \u001b[38;5;241m=\u001b[39m \u001b[38;5;124m'\u001b[39m\u001b[38;5;130;01m\\n\u001b[39;00m\u001b[38;5;124m'\u001b[39m\u001b[38;5;241m.\u001b[39mjoin(\n\u001b[0;32m    347\u001b[0m       \u001b[38;5;124mf\u001b[39m\u001b[38;5;124m'\u001b[39m\u001b[38;5;124m  * \u001b[39m\u001b[38;5;132;01m{\u001b[39;00mcomponent(path)\u001b[38;5;132;01m}\u001b[39;00m\u001b[38;5;124m has type \u001b[39m\u001b[38;5;132;01m{\u001b[39;00min_aval\u001b[38;5;241m.\u001b[39mstr_short()\u001b[38;5;132;01m}\u001b[39;00m\u001b[38;5;124m'\u001b[39m\n\u001b[0;32m    348\u001b[0m       \u001b[38;5;124m'\u001b[39m\u001b[38;5;124m but the corresponding output carry component has type \u001b[39m\u001b[38;5;124m'\u001b[39m\n\u001b[0;32m    349\u001b[0m       \u001b[38;5;124mf\u001b[39m\u001b[38;5;124m'\u001b[39m\u001b[38;5;132;01m{\u001b[39;00mout_aval\u001b[38;5;241m.\u001b[39mstr_short()\u001b[38;5;132;01m}\u001b[39;00m\u001b[38;5;132;01m{\u001b[39;00m_aval_mismatch_extra(in_aval,\u001b[38;5;250m \u001b[39mout_aval)\u001b[38;5;132;01m}\u001b[39;00m\u001b[38;5;130;01m\\n\u001b[39;00m\u001b[38;5;124m'\u001b[39m\n\u001b[0;32m    350\u001b[0m       \u001b[38;5;28;01mfor\u001b[39;00m path, in_aval, out_aval \u001b[38;5;129;01min\u001b[39;00m \u001b[38;5;28mzip\u001b[39m(paths, in_avals, out_avals)\n\u001b[0;32m    351\u001b[0m       \u001b[38;5;28;01mif\u001b[39;00m \u001b[38;5;129;01mnot\u001b[39;00m core\u001b[38;5;241m.\u001b[39mtypematch(in_aval, out_aval))\n",
      "\u001b[1;31mTypeError\u001b[0m: Scanned function carry input and carry output must have the same pytree structure, but they differ:\n  * the input carry component loop_carry[1][1] is a <class 'jax._src.interpreters.partial_eval.DynamicJaxprTracer'> but the corresponding component of the carry output is a <class 'tuple'>, so their Python types differ\n\nRevise the scanned function so that its output is a pair where the first element has the same pytree structure as the first argument."
     ]
    }
   ],
   "source": [
    "rng_key = random.PRNGKey(0)\n",
    "densities = vmc.train(rng_key, params, nqs)"
   ]
  },
  {
   "cell_type": "code",
   "execution_count": null,
   "metadata": {},
   "outputs": [],
   "source": []
  }
 ],
 "metadata": {
  "kernelspec": {
   "display_name": "pytorch",
   "language": "python",
   "name": "python3"
  },
  "language_info": {
   "codemirror_mode": {
    "name": "ipython",
    "version": 3
   },
   "file_extension": ".py",
   "mimetype": "text/x-python",
   "name": "python",
   "nbconvert_exporter": "python",
   "pygments_lexer": "ipython3",
   "version": "3.12.3"
  }
 },
 "nbformat": 4,
 "nbformat_minor": 2
}
